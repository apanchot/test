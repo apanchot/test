{
 "cells": [
  {
   "cell_type": "markdown",
   "metadata": {},
   "source": [
    "# TSP Problem\n",
    "\n",
    "## 1. Defining a function to compute de distances between two gps coordinates."
   ]
  },
  {
   "cell_type": "code",
   "execution_count": 1,
   "metadata": {},
   "outputs": [],
   "source": [
    "from math import sin, cos, sqrt, atan2, radians\n",
    "\n",
    "def distance(x, y):\n",
    "    R = 6373.0\n",
    "    \n",
    "    lat1 = radians(selected_cities.loc[x,'lat'])\n",
    "    lon1 = radians(selected_cities.loc[x,'lng'])\n",
    "    lat2 = radians(selected_cities.loc[y,'lat'])\n",
    "    lon2 = radians(selected_cities.loc[y,'lng'])\n",
    "    \n",
    "    dlon = lon2 - lon1\n",
    "    dlat = lat2 - lat1\n",
    "    \n",
    "    a = sin(dlat / 2)**2 + cos(lat1) * cos(lat2) * sin(dlon / 2)**2\n",
    "    c = 2 * atan2(sqrt(a), sqrt(1 - a))\n",
    "    \n",
    "    distance = R * c\n",
    "    \n",
    "    return distance\n"
   ]
  },
  {
   "cell_type": "markdown",
   "metadata": {},
   "source": [
    "# 2. Importing a dataframe that contains latitude and longitude coordinates of 15,493 cities from around the world."
   ]
  },
  {
   "cell_type": "code",
   "execution_count": 2,
   "metadata": {},
   "outputs": [],
   "source": [
    "import pandas as pd\n",
    "cities_coordinates = pd.read_csv('worldcities.csv')"
   ]
  },
  {
   "cell_type": "markdown",
   "metadata": {},
   "source": [
    "# 3. Selecting a group of 22 big cities"
   ]
  },
  {
   "cell_type": "code",
   "execution_count": 3,
   "metadata": {},
   "outputs": [],
   "source": [
    "selected = ['Tokyo','New York','Mexico City','Rio de Janeiro','Los Angeles','Buenos Aires','Rome','Lisbon','Paris',\n",
    "            'Munich','Changping','Delhi','Sydney','Moscow','Istanbul','Cape Town','Madrid','Seoul','London','Bangkok',\n",
    "            'Toronto','Dubai']\n",
    "selected_cities = cities_coordinates.loc[cities_coordinates['city'].isin(selected),['city','country','lat','lng']]\n",
    "selected_cities.reset_index(inplace = True, drop = True)\n",
    "selected_cities = selected_cities.loc[0:21,:]\n",
    "selected_cities = selected_cities.drop('country', axis = 1)\n",
    "selected_cities.set_index('city', inplace = True)"
   ]
  },
  {
   "cell_type": "markdown",
   "metadata": {},
   "source": [
    "# 4. Computing the distances between each of them."
   ]
  },
  {
   "cell_type": "code",
   "execution_count": 4,
   "metadata": {},
   "outputs": [],
   "source": [
    "data = [[distance(i,j) for j in selected_cities.index] for i in selected_cities.index]"
   ]
  },
  {
   "cell_type": "markdown",
   "metadata": {},
   "source": [
    "# 5. Running the GA Algorithm."
   ]
  },
  {
   "cell_type": "code",
   "execution_count": 5,
   "metadata": {},
   "outputs": [],
   "source": [
    "import numpy as np\n",
    "import pandas as pd\n",
    "import random\n",
    "\n",
    "def initial(dv, pop_size):\n",
    "    pop = [list(np.random.permutation(dv)) for i in range(pop_size)]\n",
    "    return pop\n",
    "\n",
    "def fitness_aux(x):\n",
    "    y=[data[x[i]][x[i+1]] for i in range(len(x)) if i < (len(x)-1)]\n",
    "    y.append(data[x[-1]][x[0]])\n",
    "    return sum(y)\n",
    "\n",
    "def fitness_function(x):\n",
    "    y = [fitness_aux(x[i]) for i in range(len(x))]\n",
    "    return y\n",
    "\n",
    "def tournament_selection(x, size = 5):\n",
    "    candidates = list(np.random.choice(range(len(x)), size))\n",
    "    candidates_fitness = [fitness[i] for i in candidates]\n",
    "    champion = candidates[candidates_fitness.index(min(candidates_fitness))]\n",
    "    return champion\n",
    "\n",
    "def select_parents(x):\n",
    "    parents_index = [tournament_selection(x) for i in range(len(x))]\n",
    "    parents = [x[i] for i in parents_index]\n",
    "    return parents\n",
    "\n",
    "def order_crossover(a,b):\n",
    "    points = list(np.random.choice(range(1,len(a)), 2, replace=False))\n",
    "    points.sort()\n",
    "    point1, point2 = points[0], points[1]\n",
    "    \n",
    "    child_a = [-1]*len(a)\n",
    "    child_a[point1 : point2] = a[point1 : point2]\n",
    "    conflict_a = a[point1 : point2]\n",
    "    mapping_a = [i for i in b[point2:] + b[:point2] if i not in conflict_a] \n",
    "    diff=len(a)-point2\n",
    "    child_a[point2:] = mapping_a[:diff]\n",
    "    child_a[:point1] = mapping_a[diff:]\n",
    "    \n",
    "    child_b = [-1]*len(b)\n",
    "    child_b[point1 : point2] = b[point1 : point2]\n",
    "    conflict_b = b[point1 : point2]\n",
    "    mapping_b = [i for i in a[point2:] + a[:point2] if i not in conflict_b] \n",
    "    diff=len(b)-point2\n",
    "    child_b[point2:] = mapping_b[:diff]\n",
    "    child_b[:point1] = mapping_b[diff:]\n",
    "    \n",
    "    return child_a, child_b\n",
    "\n",
    "def inversion_mutation(a):\n",
    "    points = list(np.random.choice(range(1,len(a)), 2, replace=False))\n",
    "    points.sort()\n",
    "    point1, point2 = points[0], points[1]\n",
    "    child = a[:point1] + a[point1:point2][::-1] + a[point2:]\n",
    "    return child\n",
    "\n",
    "def elitism_replacement(population, fitness, offspring, fitness_offspring):\n",
    "    if min(fitness) < min(fitness_offspring):\n",
    "        offspring[fitness_offspring.index(max(fitness_offspring))] = population[fitness.index(min(fitness))]\n",
    "    return offspring\n",
    "\n",
    "def save_best_fitness(population, fitness):\n",
    "    best = fitness.index(min(fitness))\n",
    "    return population[best], fitness[best]\n",
    "\n",
    "\n",
    "decision_variables = list(range(len(data)))\n",
    "population = initial(decision_variables, 20)\n",
    "fitness = fitness_function(population)\n",
    "best = save_best_fitness(population, fitness)\n",
    "generation, best_fitness, fittest = [0], [best[1]], [str(best[0])]\n",
    "\n",
    "for gen in range(1000):\n",
    "    parents = select_parents(population)\n",
    "    offspring = parents.copy()\n",
    "    for i in range(0,len(population),2):\n",
    "        if (np.random.uniform() < 0.6):\n",
    "            offspring[i],offspring[i+1] = order_crossover(parents[i],parents[i+1])\n",
    "    for i in range(len(population)):\n",
    "        if (np.random.uniform() < 0.6):\n",
    "            offspring[i] = inversion_mutation(offspring[i])\n",
    "    fitness_offspring = fitness_function(offspring)\n",
    "    population = elitism_replacement(population, fitness, offspring, fitness_offspring)\n",
    "    fitness = fitness_function(population)\n",
    "    best = save_best_fitness(population, fitness)\n",
    "    generation.append(gen+1), best_fitness.append(best[1]), fittest.append(str(best[0]))\n",
    "\n",
    "generation = pd.Series(generation)\n",
    "best_fitness = pd.Series(best_fitness)\n",
    "fittest = pd.Series(fittest)\n",
    "run = pd.concat([generation, best_fitness, fittest], axis = 1)\n",
    "run.columns = ['Generation', 'Fitness', 'Fittest']\n",
    "run.drop_duplicates('Fittest', inplace=True)"
   ]
  },
  {
   "cell_type": "markdown",
   "metadata": {},
   "source": [
    "# 6. Preparing the dataframe"
   ]
  },
  {
   "cell_type": "code",
   "execution_count": 6,
   "metadata": {},
   "outputs": [],
   "source": [
    "def path(x):\n",
    "    best_fitness_aux = run.loc[x,'Fittest'].replace(',','').replace('[','').replace(']','').split(' ')\n",
    "    path_best_fitness = [int(i) for i in best_fitness_aux]\n",
    "    path_best_fitness = path_best_fitness + [path_best_fitness[0]]\n",
    "    return path_best_fitness"
   ]
  },
  {
   "cell_type": "code",
   "execution_count": 7,
   "metadata": {},
   "outputs": [],
   "source": [
    "generation = lambda x: ['Generation_'+str(run.loc[x,'Generation'])]*len(path(x))\n",
    "total_distance = lambda x: [run.loc[x,'Fitness']]*len(path(x))"
   ]
  },
  {
   "cell_type": "code",
   "execution_count": 8,
   "metadata": {},
   "outputs": [],
   "source": [
    "all_path = []\n",
    "all_generation = []\n",
    "all_distances = []\n",
    "for i in run.loc[:,'Generation']:\n",
    "    all_path = all_path + path(i)\n",
    "    all_generation = all_generation + generation(i) \n",
    "    all_distances = all_distances + total_distance(i)"
   ]
  },
  {
   "cell_type": "code",
   "execution_count": 9,
   "metadata": {},
   "outputs": [],
   "source": [
    "all_generation = pd.Series(all_generation)\n",
    "all_path = pd.Series(all_path)\n",
    "all_distances = pd.Series(all_distances)"
   ]
  },
  {
   "cell_type": "code",
   "execution_count": 10,
   "metadata": {},
   "outputs": [],
   "source": [
    "x_coordinate = [selected_cities.iloc[i,0] for i in all_path]\n",
    "y_coordinate = [selected_cities.iloc[i,1] for i in all_path]\n",
    "name_city = [selected_cities.index[i] for i in all_path]\n",
    "x_coordinate = pd.Series(x_coordinate)\n",
    "y_coordinate = pd.Series(y_coordinate)\n",
    "name_city = pd.Series(name_city)"
   ]
  },
  {
   "cell_type": "code",
   "execution_count": 23,
   "metadata": {},
   "outputs": [],
   "source": [
    "df = pd.concat([all_generation, all_path, all_distances, name_city, x_coordinate, y_coordinate], axis = 1)\n",
    "df.columns = ['generation', 'city', 'distance', 'name_city', 'x_coordinate','y_coordinate']"
   ]
  },
  {
   "cell_type": "code",
   "execution_count": 24,
   "metadata": {},
   "outputs": [],
   "source": [
    "df['norm_distance'] = ''"
   ]
  },
  {
   "cell_type": "code",
   "execution_count": 32,
   "metadata": {},
   "outputs": [],
   "source": [
    "max_ = df['distance'].max()\n",
    "min_ = df['distance'].min()\n",
    "for idx in df.index:\n",
    "    df.at[idx, 'norm_distance'] = (df['distance'].loc[idx] - min_)/(max_ - min_)"
   ]
  },
  {
   "cell_type": "markdown",
   "metadata": {},
   "source": [
    "# 7. Plotting"
   ]
  },
  {
   "cell_type": "code",
   "execution_count": 34,
   "metadata": {},
   "outputs": [
    {
     "data": {
      "application/vnd.plotly.v1+json": {
       "config": {
        "plotlyServerURL": "https://plot.ly"
       },
       "data": [
        {
         "hoverinfo": "text",
         "lat": [
          51.5,
          13.75,
          40.2248,
          37.5663,
          25.23,
          38.7227,
          -33.92,
          28.67,
          40.4,
          35.685,
          48.1299,
          41.105,
          55.7522,
          34.1139,
          48.8667,
          41.896,
          43.7,
          19.4424,
          40.6943,
          -34.6025,
          -22.925,
          -33.92,
          51.5
         ],
         "line": {
          "color": "blue",
          "width": 1
         },
         "lon": [
          -0.1167,
          100.5166,
          116.1944,
          126.9997,
          55.28,
          -9.1449,
          18.435,
          77.23,
          -3.6834,
          139.7514,
          11.575,
          29.01,
          37.6155,
          -118.4068,
          2.3333,
          12.4833,
          -79.42,
          -99.131,
          -73.9249,
          -58.3975,
          -43.225,
          151.1852,
          -0.1167
         ],
         "marker": {
          "color": "red",
          "size": 4
         },
         "mode": "lines+markers",
         "text": [
          "London",
          "Bangkok",
          "Changping",
          "Seoul",
          "Dubai",
          "Lisbon",
          "Cape Town",
          "Delhi",
          "Madrid",
          "Tokyo",
          "Munich",
          "Istanbul",
          "Moscow",
          "Los Angeles",
          "Paris",
          "Rome",
          "Toronto",
          "Mexico City",
          "New York",
          "Buenos Aires",
          "Rio de Janeiro",
          "Sydney",
          "London"
         ],
         "type": "scattergeo"
        }
       ],
       "frames": [
        {
         "data": [
          {
           "lat": [
            51.5,
            13.75,
            40.2248,
            37.5663,
            25.23,
            38.7227,
            -33.92,
            28.67,
            40.4,
            35.685,
            48.1299,
            41.105,
            55.7522,
            34.1139,
            48.8667,
            41.896,
            43.7,
            19.4424,
            40.6943,
            -34.6025,
            -22.925,
            -33.92,
            51.5
           ],
           "line": {
            "color": "blue",
            "width": 8.8
           },
           "lon": [
            -0.1167,
            100.5166,
            116.1944,
            126.9997,
            55.28,
            -9.1449,
            18.435,
            77.23,
            -3.6834,
            139.7514,
            11.575,
            29.01,
            37.6155,
            -118.4068,
            2.3333,
            12.4833,
            -79.42,
            -99.131,
            -73.9249,
            -58.3975,
            -43.225,
            151.1852,
            -0.1167
           ],
           "marker": {
            "color": "red",
            "size": 4
           },
           "mode": "lines+markers",
           "text": [
            "London",
            "Bangkok",
            "Changping",
            "Seoul",
            "Dubai",
            "Lisbon",
            "Cape Town",
            "Delhi",
            "Madrid",
            "Tokyo",
            "Munich",
            "Istanbul",
            "Moscow",
            "Los Angeles",
            "Paris",
            "Rome",
            "Toronto",
            "Mexico City",
            "New York",
            "Buenos Aires",
            "Rio de Janeiro",
            "Sydney",
            "London"
           ],
           "type": "scattergeo"
          }
         ]
        },
        {
         "data": [
          {
           "lat": [
            51.5,
            13.75,
            40.2248,
            37.5663,
            25.23,
            38.7227,
            -33.92,
            28.67,
            35.685,
            48.1299,
            41.105,
            55.7522,
            34.1139,
            48.8667,
            40.4,
            41.896,
            43.7,
            19.4424,
            -22.925,
            -34.6025,
            40.6943,
            -33.92,
            51.5
           ],
           "line": {
            "color": "blue",
            "width": 8.391398184307103
           },
           "lon": [
            -0.1167,
            100.5166,
            116.1944,
            126.9997,
            55.28,
            -9.1449,
            18.435,
            77.23,
            139.7514,
            11.575,
            29.01,
            37.6155,
            -118.4068,
            2.3333,
            -3.6834,
            12.4833,
            -79.42,
            -99.131,
            -43.225,
            -58.3975,
            -73.9249,
            151.1852,
            -0.1167
           ],
           "marker": {
            "color": "red",
            "size": 4
           },
           "mode": "lines+markers",
           "text": [
            "London",
            "Bangkok",
            "Changping",
            "Seoul",
            "Dubai",
            "Lisbon",
            "Cape Town",
            "Delhi",
            "Tokyo",
            "Munich",
            "Istanbul",
            "Moscow",
            "Los Angeles",
            "Paris",
            "Madrid",
            "Rome",
            "Toronto",
            "Mexico City",
            "Rio de Janeiro",
            "Buenos Aires",
            "New York",
            "Sydney",
            "London"
           ],
           "type": "scattergeo"
          }
         ]
        },
        {
         "data": [
          {
           "lat": [
            13.75,
            40.2248,
            37.5663,
            25.23,
            38.7227,
            -33.92,
            -22.925,
            -34.6025,
            40.6943,
            19.4424,
            43.7,
            41.896,
            48.8667,
            48.1299,
            41.105,
            55.7522,
            35.685,
            40.4,
            34.1139,
            28.67,
            -33.92,
            51.5,
            13.75
           ],
           "line": {
            "color": "blue",
            "width": 7.655327258712806
           },
           "lon": [
            100.5166,
            116.1944,
            126.9997,
            55.28,
            -9.1449,
            18.435,
            -43.225,
            -58.3975,
            -73.9249,
            -99.131,
            -79.42,
            12.4833,
            2.3333,
            11.575,
            29.01,
            37.6155,
            139.7514,
            -3.6834,
            -118.4068,
            77.23,
            151.1852,
            -0.1167,
            100.5166
           ],
           "marker": {
            "color": "red",
            "size": 4
           },
           "mode": "lines+markers",
           "text": [
            "Bangkok",
            "Changping",
            "Seoul",
            "Dubai",
            "Lisbon",
            "Cape Town",
            "Rio de Janeiro",
            "Buenos Aires",
            "New York",
            "Mexico City",
            "Toronto",
            "Rome",
            "Paris",
            "Munich",
            "Istanbul",
            "Moscow",
            "Tokyo",
            "Madrid",
            "Los Angeles",
            "Delhi",
            "Sydney",
            "London",
            "Bangkok"
           ],
           "type": "scattergeo"
          }
         ]
        },
        {
         "data": [
          {
           "lat": [
            13.75,
            40.2248,
            37.5663,
            25.23,
            43.7,
            19.4424,
            40.6943,
            -34.6025,
            -22.925,
            -33.92,
            38.7227,
            41.896,
            48.8667,
            48.1299,
            41.105,
            55.7522,
            35.685,
            40.4,
            34.1139,
            28.67,
            -33.92,
            51.5,
            13.75
           ],
           "line": {
            "color": "blue",
            "width": 7.6269008153171765
           },
           "lon": [
            100.5166,
            116.1944,
            126.9997,
            55.28,
            -79.42,
            -99.131,
            -73.9249,
            -58.3975,
            -43.225,
            18.435,
            -9.1449,
            12.4833,
            2.3333,
            11.575,
            29.01,
            37.6155,
            139.7514,
            -3.6834,
            -118.4068,
            77.23,
            151.1852,
            -0.1167,
            100.5166
           ],
           "marker": {
            "color": "red",
            "size": 4
           },
           "mode": "lines+markers",
           "text": [
            "Bangkok",
            "Changping",
            "Seoul",
            "Dubai",
            "Toronto",
            "Mexico City",
            "New York",
            "Buenos Aires",
            "Rio de Janeiro",
            "Cape Town",
            "Lisbon",
            "Rome",
            "Paris",
            "Munich",
            "Istanbul",
            "Moscow",
            "Tokyo",
            "Madrid",
            "Los Angeles",
            "Delhi",
            "Sydney",
            "London",
            "Bangkok"
           ],
           "type": "scattergeo"
          }
         ]
        },
        {
         "data": [
          {
           "lat": [
            40.2248,
            37.5663,
            25.23,
            43.7,
            19.4424,
            40.6943,
            -34.6025,
            -22.925,
            -33.92,
            51.5,
            38.7227,
            41.896,
            48.8667,
            48.1299,
            41.105,
            55.7522,
            35.685,
            40.4,
            34.1139,
            28.67,
            -33.92,
            13.75,
            40.2248
           ],
           "line": {
            "color": "blue",
            "width": 5.996090193556209
           },
           "lon": [
            116.1944,
            126.9997,
            55.28,
            -79.42,
            -99.131,
            -73.9249,
            -58.3975,
            -43.225,
            18.435,
            -0.1167,
            -9.1449,
            12.4833,
            2.3333,
            11.575,
            29.01,
            37.6155,
            139.7514,
            -3.6834,
            -118.4068,
            77.23,
            151.1852,
            100.5166,
            116.1944
           ],
           "marker": {
            "color": "red",
            "size": 4
           },
           "mode": "lines+markers",
           "text": [
            "Changping",
            "Seoul",
            "Dubai",
            "Toronto",
            "Mexico City",
            "New York",
            "Buenos Aires",
            "Rio de Janeiro",
            "Cape Town",
            "London",
            "Lisbon",
            "Rome",
            "Paris",
            "Munich",
            "Istanbul",
            "Moscow",
            "Tokyo",
            "Madrid",
            "Los Angeles",
            "Delhi",
            "Sydney",
            "Bangkok",
            "Changping"
           ],
           "type": "scattergeo"
          }
         ]
        },
        {
         "data": [
          {
           "lat": [
            40.2248,
            37.5663,
            25.23,
            43.7,
            19.4424,
            40.6943,
            -34.6025,
            -22.925,
            -33.92,
            51.5,
            38.7227,
            48.8667,
            41.896,
            48.1299,
            41.105,
            55.7522,
            35.685,
            40.4,
            34.1139,
            28.67,
            -33.92,
            13.75,
            40.2248
           ],
           "line": {
            "color": "blue",
            "width": 5.956287511064225
           },
           "lon": [
            116.1944,
            126.9997,
            55.28,
            -79.42,
            -99.131,
            -73.9249,
            -58.3975,
            -43.225,
            18.435,
            -0.1167,
            -9.1449,
            2.3333,
            12.4833,
            11.575,
            29.01,
            37.6155,
            139.7514,
            -3.6834,
            -118.4068,
            77.23,
            151.1852,
            100.5166,
            116.1944
           ],
           "marker": {
            "color": "red",
            "size": 4
           },
           "mode": "lines+markers",
           "text": [
            "Changping",
            "Seoul",
            "Dubai",
            "Toronto",
            "Mexico City",
            "New York",
            "Buenos Aires",
            "Rio de Janeiro",
            "Cape Town",
            "London",
            "Lisbon",
            "Paris",
            "Rome",
            "Munich",
            "Istanbul",
            "Moscow",
            "Tokyo",
            "Madrid",
            "Los Angeles",
            "Delhi",
            "Sydney",
            "Bangkok",
            "Changping"
           ],
           "type": "scattergeo"
          }
         ]
        },
        {
         "data": [
          {
           "lat": [
            40.2248,
            55.7522,
            41.105,
            48.1299,
            41.896,
            48.8667,
            38.7227,
            51.5,
            -33.92,
            -22.925,
            -34.6025,
            40.6943,
            19.4424,
            43.7,
            25.23,
            37.5663,
            35.685,
            40.4,
            34.1139,
            28.67,
            -33.92,
            13.75,
            40.2248
           ],
           "line": {
            "color": "blue",
            "width": 5.801211273848547
           },
           "lon": [
            116.1944,
            37.6155,
            29.01,
            11.575,
            12.4833,
            2.3333,
            -9.1449,
            -0.1167,
            18.435,
            -43.225,
            -58.3975,
            -73.9249,
            -99.131,
            -79.42,
            55.28,
            126.9997,
            139.7514,
            -3.6834,
            -118.4068,
            77.23,
            151.1852,
            100.5166,
            116.1944
           ],
           "marker": {
            "color": "red",
            "size": 4
           },
           "mode": "lines+markers",
           "text": [
            "Changping",
            "Moscow",
            "Istanbul",
            "Munich",
            "Rome",
            "Paris",
            "Lisbon",
            "London",
            "Cape Town",
            "Rio de Janeiro",
            "Buenos Aires",
            "New York",
            "Mexico City",
            "Toronto",
            "Dubai",
            "Seoul",
            "Tokyo",
            "Madrid",
            "Los Angeles",
            "Delhi",
            "Sydney",
            "Bangkok",
            "Changping"
           ],
           "type": "scattergeo"
          }
         ]
        },
        {
         "data": [
          {
           "lat": [
            40.2248,
            25.23,
            43.7,
            19.4424,
            40.6943,
            -34.6025,
            -22.925,
            -33.92,
            51.5,
            38.7227,
            48.8667,
            41.896,
            48.1299,
            41.105,
            55.7522,
            37.5663,
            35.685,
            40.4,
            34.1139,
            28.67,
            -33.92,
            13.75,
            40.2248
           ],
           "line": {
            "color": "blue",
            "width": 5.789973901712082
           },
           "lon": [
            116.1944,
            55.28,
            -79.42,
            -99.131,
            -73.9249,
            -58.3975,
            -43.225,
            18.435,
            -0.1167,
            -9.1449,
            2.3333,
            12.4833,
            11.575,
            29.01,
            37.6155,
            126.9997,
            139.7514,
            -3.6834,
            -118.4068,
            77.23,
            151.1852,
            100.5166,
            116.1944
           ],
           "marker": {
            "color": "red",
            "size": 4
           },
           "mode": "lines+markers",
           "text": [
            "Changping",
            "Dubai",
            "Toronto",
            "Mexico City",
            "New York",
            "Buenos Aires",
            "Rio de Janeiro",
            "Cape Town",
            "London",
            "Lisbon",
            "Paris",
            "Rome",
            "Munich",
            "Istanbul",
            "Moscow",
            "Seoul",
            "Tokyo",
            "Madrid",
            "Los Angeles",
            "Delhi",
            "Sydney",
            "Bangkok",
            "Changping"
           ],
           "type": "scattergeo"
          }
         ]
        },
        {
         "data": [
          {
           "lat": [
            40.2248,
            25.23,
            41.105,
            48.1299,
            41.896,
            48.8667,
            38.7227,
            51.5,
            -33.92,
            -22.925,
            -34.6025,
            40.6943,
            19.4424,
            43.7,
            55.7522,
            37.5663,
            35.685,
            40.4,
            34.1139,
            28.67,
            -33.92,
            13.75,
            40.2248
           ],
           "line": {
            "color": "blue",
            "width": 5.556449598049208
           },
           "lon": [
            116.1944,
            55.28,
            29.01,
            11.575,
            12.4833,
            2.3333,
            -9.1449,
            -0.1167,
            18.435,
            -43.225,
            -58.3975,
            -73.9249,
            -99.131,
            -79.42,
            37.6155,
            126.9997,
            139.7514,
            -3.6834,
            -118.4068,
            77.23,
            151.1852,
            100.5166,
            116.1944
           ],
           "marker": {
            "color": "red",
            "size": 4
           },
           "mode": "lines+markers",
           "text": [
            "Changping",
            "Dubai",
            "Istanbul",
            "Munich",
            "Rome",
            "Paris",
            "Lisbon",
            "London",
            "Cape Town",
            "Rio de Janeiro",
            "Buenos Aires",
            "New York",
            "Mexico City",
            "Toronto",
            "Moscow",
            "Seoul",
            "Tokyo",
            "Madrid",
            "Los Angeles",
            "Delhi",
            "Sydney",
            "Bangkok",
            "Changping"
           ],
           "type": "scattergeo"
          }
         ]
        },
        {
         "data": [
          {
           "lat": [
            25.23,
            43.7,
            40.6943,
            19.4424,
            34.1139,
            40.4,
            35.685,
            37.5663,
            55.7522,
            41.105,
            48.1299,
            41.896,
            48.8667,
            38.7227,
            51.5,
            -33.92,
            -22.925,
            -34.6025,
            28.67,
            -33.92,
            13.75,
            40.2248,
            25.23
           ],
           "line": {
            "color": "blue",
            "width": 5.21357929396295
           },
           "lon": [
            55.28,
            -79.42,
            -73.9249,
            -99.131,
            -118.4068,
            -3.6834,
            139.7514,
            126.9997,
            37.6155,
            29.01,
            11.575,
            12.4833,
            2.3333,
            -9.1449,
            -0.1167,
            18.435,
            -43.225,
            -58.3975,
            77.23,
            151.1852,
            100.5166,
            116.1944,
            55.28
           ],
           "marker": {
            "color": "red",
            "size": 4
           },
           "mode": "lines+markers",
           "text": [
            "Dubai",
            "Toronto",
            "New York",
            "Mexico City",
            "Los Angeles",
            "Madrid",
            "Tokyo",
            "Seoul",
            "Moscow",
            "Istanbul",
            "Munich",
            "Rome",
            "Paris",
            "Lisbon",
            "London",
            "Cape Town",
            "Rio de Janeiro",
            "Buenos Aires",
            "Delhi",
            "Sydney",
            "Bangkok",
            "Changping",
            "Dubai"
           ],
           "type": "scattergeo"
          }
         ]
        },
        {
         "data": [
          {
           "lat": [
            25.23,
            43.7,
            40.6943,
            19.4424,
            34.1139,
            40.4,
            -34.6025,
            -22.925,
            -33.92,
            51.5,
            38.7227,
            48.8667,
            41.896,
            48.1299,
            41.105,
            55.7522,
            37.5663,
            35.685,
            28.67,
            -33.92,
            13.75,
            40.2248,
            25.23
           ],
           "line": {
            "color": "blue",
            "width": 4.145306570699246
           },
           "lon": [
            55.28,
            -79.42,
            -73.9249,
            -99.131,
            -118.4068,
            -3.6834,
            -58.3975,
            -43.225,
            18.435,
            -0.1167,
            -9.1449,
            2.3333,
            12.4833,
            11.575,
            29.01,
            37.6155,
            126.9997,
            139.7514,
            77.23,
            151.1852,
            100.5166,
            116.1944,
            55.28
           ],
           "marker": {
            "color": "red",
            "size": 4
           },
           "mode": "lines+markers",
           "text": [
            "Dubai",
            "Toronto",
            "New York",
            "Mexico City",
            "Los Angeles",
            "Madrid",
            "Buenos Aires",
            "Rio de Janeiro",
            "Cape Town",
            "London",
            "Lisbon",
            "Paris",
            "Rome",
            "Munich",
            "Istanbul",
            "Moscow",
            "Seoul",
            "Tokyo",
            "Delhi",
            "Sydney",
            "Bangkok",
            "Changping",
            "Dubai"
           ],
           "type": "scattergeo"
          }
         ]
        },
        {
         "data": [
          {
           "lat": [
            25.23,
            43.7,
            40.6943,
            19.4424,
            34.1139,
            38.7227,
            51.5,
            -33.92,
            -22.925,
            -34.6025,
            40.4,
            48.8667,
            41.896,
            48.1299,
            41.105,
            55.7522,
            37.5663,
            35.685,
            28.67,
            -33.92,
            13.75,
            40.2248,
            25.23
           ],
           "line": {
            "color": "blue",
            "width": 4.0810386358020745
           },
           "lon": [
            55.28,
            -79.42,
            -73.9249,
            -99.131,
            -118.4068,
            -9.1449,
            -0.1167,
            18.435,
            -43.225,
            -58.3975,
            -3.6834,
            2.3333,
            12.4833,
            11.575,
            29.01,
            37.6155,
            126.9997,
            139.7514,
            77.23,
            151.1852,
            100.5166,
            116.1944,
            55.28
           ],
           "marker": {
            "color": "red",
            "size": 4
           },
           "mode": "lines+markers",
           "text": [
            "Dubai",
            "Toronto",
            "New York",
            "Mexico City",
            "Los Angeles",
            "Lisbon",
            "London",
            "Cape Town",
            "Rio de Janeiro",
            "Buenos Aires",
            "Madrid",
            "Paris",
            "Rome",
            "Munich",
            "Istanbul",
            "Moscow",
            "Seoul",
            "Tokyo",
            "Delhi",
            "Sydney",
            "Bangkok",
            "Changping",
            "Dubai"
           ],
           "type": "scattergeo"
          }
         ]
        },
        {
         "data": [
          {
           "lat": [
            40.4,
            43.7,
            40.6943,
            19.4424,
            34.1139,
            38.7227,
            51.5,
            48.8667,
            41.896,
            48.1299,
            41.105,
            55.7522,
            37.5663,
            35.685,
            28.67,
            -33.92,
            13.75,
            40.2248,
            25.23,
            -33.92,
            -22.925,
            -34.6025,
            40.4
           ],
           "line": {
            "color": "blue",
            "width": 3.3037935473986524
           },
           "lon": [
            -3.6834,
            -79.42,
            -73.9249,
            -99.131,
            -118.4068,
            -9.1449,
            -0.1167,
            2.3333,
            12.4833,
            11.575,
            29.01,
            37.6155,
            126.9997,
            139.7514,
            77.23,
            151.1852,
            100.5166,
            116.1944,
            55.28,
            18.435,
            -43.225,
            -58.3975,
            -3.6834
           ],
           "marker": {
            "color": "red",
            "size": 4
           },
           "mode": "lines+markers",
           "text": [
            "Madrid",
            "Toronto",
            "New York",
            "Mexico City",
            "Los Angeles",
            "Lisbon",
            "London",
            "Paris",
            "Rome",
            "Munich",
            "Istanbul",
            "Moscow",
            "Seoul",
            "Tokyo",
            "Delhi",
            "Sydney",
            "Bangkok",
            "Changping",
            "Dubai",
            "Cape Town",
            "Rio de Janeiro",
            "Buenos Aires",
            "Madrid"
           ],
           "type": "scattergeo"
          }
         ]
        },
        {
         "data": [
          {
           "lat": [
            19.4424,
            34.1139,
            37.5663,
            35.685,
            13.75,
            -33.92,
            28.67,
            40.2248,
            25.23,
            55.7522,
            41.105,
            48.1299,
            41.896,
            48.8667,
            38.7227,
            51.5,
            -33.92,
            -22.925,
            -34.6025,
            40.4,
            43.7,
            40.6943,
            19.4424
           ],
           "line": {
            "color": "blue",
            "width": 3.2910330615200385
           },
           "lon": [
            -99.131,
            -118.4068,
            126.9997,
            139.7514,
            100.5166,
            151.1852,
            77.23,
            116.1944,
            55.28,
            37.6155,
            29.01,
            11.575,
            12.4833,
            2.3333,
            -9.1449,
            -0.1167,
            18.435,
            -43.225,
            -58.3975,
            -3.6834,
            -79.42,
            -73.9249,
            -99.131
           ],
           "marker": {
            "color": "red",
            "size": 4
           },
           "mode": "lines+markers",
           "text": [
            "Mexico City",
            "Los Angeles",
            "Seoul",
            "Tokyo",
            "Bangkok",
            "Sydney",
            "Delhi",
            "Changping",
            "Dubai",
            "Moscow",
            "Istanbul",
            "Munich",
            "Rome",
            "Paris",
            "Lisbon",
            "London",
            "Cape Town",
            "Rio de Janeiro",
            "Buenos Aires",
            "Madrid",
            "Toronto",
            "New York",
            "Mexico City"
           ],
           "type": "scattergeo"
          }
         ]
        },
        {
         "data": [
          {
           "lat": [
            40.4,
            43.7,
            40.6943,
            19.4424,
            34.1139,
            38.7227,
            51.5,
            48.8667,
            41.896,
            48.1299,
            41.105,
            55.7522,
            37.5663,
            35.685,
            -33.92,
            28.67,
            13.75,
            40.2248,
            25.23,
            -33.92,
            -22.925,
            -34.6025,
            40.4
           ],
           "line": {
            "color": "blue",
            "width": 3.0411751408886385
           },
           "lon": [
            -3.6834,
            -79.42,
            -73.9249,
            -99.131,
            -118.4068,
            -9.1449,
            -0.1167,
            2.3333,
            12.4833,
            11.575,
            29.01,
            37.6155,
            126.9997,
            139.7514,
            151.1852,
            77.23,
            100.5166,
            116.1944,
            55.28,
            18.435,
            -43.225,
            -58.3975,
            -3.6834
           ],
           "marker": {
            "color": "red",
            "size": 4
           },
           "mode": "lines+markers",
           "text": [
            "Madrid",
            "Toronto",
            "New York",
            "Mexico City",
            "Los Angeles",
            "Lisbon",
            "London",
            "Paris",
            "Rome",
            "Munich",
            "Istanbul",
            "Moscow",
            "Seoul",
            "Tokyo",
            "Sydney",
            "Delhi",
            "Bangkok",
            "Changping",
            "Dubai",
            "Cape Town",
            "Rio de Janeiro",
            "Buenos Aires",
            "Madrid"
           ],
           "type": "scattergeo"
          }
         ]
        },
        {
         "data": [
          {
           "lat": [
            40.4,
            43.7,
            34.1139,
            19.4424,
            40.6943,
            38.7227,
            51.5,
            48.8667,
            41.896,
            48.1299,
            41.105,
            55.7522,
            37.5663,
            35.685,
            -33.92,
            28.67,
            13.75,
            40.2248,
            25.23,
            -33.92,
            -22.925,
            -34.6025,
            40.4
           ],
           "line": {
            "color": "blue",
            "width": 2.963921980528853
           },
           "lon": [
            -3.6834,
            -79.42,
            -118.4068,
            -99.131,
            -73.9249,
            -9.1449,
            -0.1167,
            2.3333,
            12.4833,
            11.575,
            29.01,
            37.6155,
            126.9997,
            139.7514,
            151.1852,
            77.23,
            100.5166,
            116.1944,
            55.28,
            18.435,
            -43.225,
            -58.3975,
            -3.6834
           ],
           "marker": {
            "color": "red",
            "size": 4
           },
           "mode": "lines+markers",
           "text": [
            "Madrid",
            "Toronto",
            "Los Angeles",
            "Mexico City",
            "New York",
            "Lisbon",
            "London",
            "Paris",
            "Rome",
            "Munich",
            "Istanbul",
            "Moscow",
            "Seoul",
            "Tokyo",
            "Sydney",
            "Delhi",
            "Bangkok",
            "Changping",
            "Dubai",
            "Cape Town",
            "Rio de Janeiro",
            "Buenos Aires",
            "Madrid"
           ],
           "type": "scattergeo"
          }
         ]
        },
        {
         "data": [
          {
           "lat": [
            40.4,
            43.7,
            34.1139,
            19.4424,
            40.6943,
            38.7227,
            51.5,
            48.8667,
            41.896,
            48.1299,
            41.105,
            55.7522,
            37.5663,
            35.685,
            -33.92,
            40.2248,
            13.75,
            28.67,
            25.23,
            -33.92,
            -22.925,
            -34.6025,
            40.4
           ],
           "line": {
            "color": "blue",
            "width": 2.458423719264922
           },
           "lon": [
            -3.6834,
            -79.42,
            -118.4068,
            -99.131,
            -73.9249,
            -9.1449,
            -0.1167,
            2.3333,
            12.4833,
            11.575,
            29.01,
            37.6155,
            126.9997,
            139.7514,
            151.1852,
            116.1944,
            100.5166,
            77.23,
            55.28,
            18.435,
            -43.225,
            -58.3975,
            -3.6834
           ],
           "marker": {
            "color": "red",
            "size": 4
           },
           "mode": "lines+markers",
           "text": [
            "Madrid",
            "Toronto",
            "Los Angeles",
            "Mexico City",
            "New York",
            "Lisbon",
            "London",
            "Paris",
            "Rome",
            "Munich",
            "Istanbul",
            "Moscow",
            "Seoul",
            "Tokyo",
            "Sydney",
            "Changping",
            "Bangkok",
            "Delhi",
            "Dubai",
            "Cape Town",
            "Rio de Janeiro",
            "Buenos Aires",
            "Madrid"
           ],
           "type": "scattergeo"
          }
         ]
        },
        {
         "data": [
          {
           "lat": [
            40.4,
            43.7,
            34.1139,
            19.4424,
            40.6943,
            38.7227,
            51.5,
            48.8667,
            48.1299,
            41.896,
            41.105,
            55.7522,
            37.5663,
            35.685,
            -33.92,
            40.2248,
            13.75,
            28.67,
            25.23,
            -33.92,
            -22.925,
            -34.6025,
            40.4
           ],
           "line": {
            "color": "blue",
            "width": 2.395906731627305
           },
           "lon": [
            -3.6834,
            -79.42,
            -118.4068,
            -99.131,
            -73.9249,
            -9.1449,
            -0.1167,
            2.3333,
            11.575,
            12.4833,
            29.01,
            37.6155,
            126.9997,
            139.7514,
            151.1852,
            116.1944,
            100.5166,
            77.23,
            55.28,
            18.435,
            -43.225,
            -58.3975,
            -3.6834
           ],
           "marker": {
            "color": "red",
            "size": 4
           },
           "mode": "lines+markers",
           "text": [
            "Madrid",
            "Toronto",
            "Los Angeles",
            "Mexico City",
            "New York",
            "Lisbon",
            "London",
            "Paris",
            "Munich",
            "Rome",
            "Istanbul",
            "Moscow",
            "Seoul",
            "Tokyo",
            "Sydney",
            "Changping",
            "Bangkok",
            "Delhi",
            "Dubai",
            "Cape Town",
            "Rio de Janeiro",
            "Buenos Aires",
            "Madrid"
           ],
           "type": "scattergeo"
          }
         ]
        },
        {
         "data": [
          {
           "lat": [
            40.4,
            43.7,
            34.1139,
            19.4424,
            40.6943,
            38.7227,
            51.5,
            48.8667,
            48.1299,
            41.896,
            41.105,
            55.7522,
            37.5663,
            35.685,
            40.2248,
            -33.92,
            13.75,
            28.67,
            25.23,
            -33.92,
            -22.925,
            -34.6025,
            40.4
           ],
           "line": {
            "color": "blue",
            "width": 2.2467202478711115
           },
           "lon": [
            -3.6834,
            -79.42,
            -118.4068,
            -99.131,
            -73.9249,
            -9.1449,
            -0.1167,
            2.3333,
            11.575,
            12.4833,
            29.01,
            37.6155,
            126.9997,
            139.7514,
            116.1944,
            151.1852,
            100.5166,
            77.23,
            55.28,
            18.435,
            -43.225,
            -58.3975,
            -3.6834
           ],
           "marker": {
            "color": "red",
            "size": 4
           },
           "mode": "lines+markers",
           "text": [
            "Madrid",
            "Toronto",
            "Los Angeles",
            "Mexico City",
            "New York",
            "Lisbon",
            "London",
            "Paris",
            "Munich",
            "Rome",
            "Istanbul",
            "Moscow",
            "Seoul",
            "Tokyo",
            "Changping",
            "Sydney",
            "Bangkok",
            "Delhi",
            "Dubai",
            "Cape Town",
            "Rio de Janeiro",
            "Buenos Aires",
            "Madrid"
           ],
           "type": "scattergeo"
          }
         ]
        },
        {
         "data": [
          {
           "lat": [
            40.4,
            38.7227,
            40.6943,
            19.4424,
            34.1139,
            43.7,
            51.5,
            48.8667,
            48.1299,
            41.896,
            41.105,
            55.7522,
            37.5663,
            35.685,
            40.2248,
            -33.92,
            13.75,
            28.67,
            25.23,
            -33.92,
            -22.925,
            -34.6025,
            40.4
           ],
           "line": {
            "color": "blue",
            "width": 2.105949789918959
           },
           "lon": [
            -3.6834,
            -9.1449,
            -73.9249,
            -99.131,
            -118.4068,
            -79.42,
            -0.1167,
            2.3333,
            11.575,
            12.4833,
            29.01,
            37.6155,
            126.9997,
            139.7514,
            116.1944,
            151.1852,
            100.5166,
            77.23,
            55.28,
            18.435,
            -43.225,
            -58.3975,
            -3.6834
           ],
           "marker": {
            "color": "red",
            "size": 4
           },
           "mode": "lines+markers",
           "text": [
            "Madrid",
            "Lisbon",
            "New York",
            "Mexico City",
            "Los Angeles",
            "Toronto",
            "London",
            "Paris",
            "Munich",
            "Rome",
            "Istanbul",
            "Moscow",
            "Seoul",
            "Tokyo",
            "Changping",
            "Sydney",
            "Bangkok",
            "Delhi",
            "Dubai",
            "Cape Town",
            "Rio de Janeiro",
            "Buenos Aires",
            "Madrid"
           ],
           "type": "scattergeo"
          }
         ]
        },
        {
         "data": [
          {
           "lat": [
            40.4,
            43.7,
            34.1139,
            19.4424,
            40.6943,
            38.7227,
            51.5,
            48.8667,
            48.1299,
            41.896,
            41.105,
            55.7522,
            40.2248,
            35.685,
            37.5663,
            -33.92,
            13.75,
            28.67,
            25.23,
            -33.92,
            -22.925,
            -34.6025,
            40.4
           ],
           "line": {
            "color": "blue",
            "width": 2.095636610024326
           },
           "lon": [
            -3.6834,
            -79.42,
            -118.4068,
            -99.131,
            -73.9249,
            -9.1449,
            -0.1167,
            2.3333,
            11.575,
            12.4833,
            29.01,
            37.6155,
            116.1944,
            139.7514,
            126.9997,
            151.1852,
            100.5166,
            77.23,
            55.28,
            18.435,
            -43.225,
            -58.3975,
            -3.6834
           ],
           "marker": {
            "color": "red",
            "size": 4
           },
           "mode": "lines+markers",
           "text": [
            "Madrid",
            "Toronto",
            "Los Angeles",
            "Mexico City",
            "New York",
            "Lisbon",
            "London",
            "Paris",
            "Munich",
            "Rome",
            "Istanbul",
            "Moscow",
            "Changping",
            "Tokyo",
            "Seoul",
            "Sydney",
            "Bangkok",
            "Delhi",
            "Dubai",
            "Cape Town",
            "Rio de Janeiro",
            "Buenos Aires",
            "Madrid"
           ],
           "type": "scattergeo"
          }
         ]
        },
        {
         "data": [
          {
           "lat": [
            40.4,
            38.7227,
            40.6943,
            19.4424,
            34.1139,
            43.7,
            51.5,
            48.8667,
            48.1299,
            41.896,
            41.105,
            55.7522,
            40.2248,
            35.685,
            37.5663,
            -33.92,
            13.75,
            28.67,
            25.23,
            -33.92,
            -22.925,
            -34.6025,
            40.4
           ],
           "line": {
            "color": "blue",
            "width": 1.9548661520721737
           },
           "lon": [
            -3.6834,
            -9.1449,
            -73.9249,
            -99.131,
            -118.4068,
            -79.42,
            -0.1167,
            2.3333,
            11.575,
            12.4833,
            29.01,
            37.6155,
            116.1944,
            139.7514,
            126.9997,
            151.1852,
            100.5166,
            77.23,
            55.28,
            18.435,
            -43.225,
            -58.3975,
            -3.6834
           ],
           "marker": {
            "color": "red",
            "size": 4
           },
           "mode": "lines+markers",
           "text": [
            "Madrid",
            "Lisbon",
            "New York",
            "Mexico City",
            "Los Angeles",
            "Toronto",
            "London",
            "Paris",
            "Munich",
            "Rome",
            "Istanbul",
            "Moscow",
            "Changping",
            "Tokyo",
            "Seoul",
            "Sydney",
            "Bangkok",
            "Delhi",
            "Dubai",
            "Cape Town",
            "Rio de Janeiro",
            "Buenos Aires",
            "Madrid"
           ],
           "type": "scattergeo"
          }
         ]
        },
        {
         "data": [
          {
           "lat": [
            40.4,
            38.7227,
            40.6943,
            34.1139,
            19.4424,
            43.7,
            48.8667,
            51.5,
            48.1299,
            41.896,
            41.105,
            55.7522,
            40.2248,
            37.5663,
            35.685,
            -33.92,
            13.75,
            28.67,
            25.23,
            -33.92,
            -22.925,
            -34.6025,
            40.4
           ],
           "line": {
            "color": "blue",
            "width": 1.8775469526051554
           },
           "lon": [
            -3.6834,
            -9.1449,
            -73.9249,
            -118.4068,
            -99.131,
            -79.42,
            2.3333,
            -0.1167,
            11.575,
            12.4833,
            29.01,
            37.6155,
            116.1944,
            126.9997,
            139.7514,
            151.1852,
            100.5166,
            77.23,
            55.28,
            18.435,
            -43.225,
            -58.3975,
            -3.6834
           ],
           "marker": {
            "color": "red",
            "size": 4
           },
           "mode": "lines+markers",
           "text": [
            "Madrid",
            "Lisbon",
            "New York",
            "Los Angeles",
            "Mexico City",
            "Toronto",
            "Paris",
            "London",
            "Munich",
            "Rome",
            "Istanbul",
            "Moscow",
            "Changping",
            "Seoul",
            "Tokyo",
            "Sydney",
            "Bangkok",
            "Delhi",
            "Dubai",
            "Cape Town",
            "Rio de Janeiro",
            "Buenos Aires",
            "Madrid"
           ],
           "type": "scattergeo"
          }
         ]
        },
        {
         "data": [
          {
           "lat": [
            40.4,
            38.7227,
            40.6943,
            19.4424,
            34.1139,
            43.7,
            48.8667,
            51.5,
            48.1299,
            41.896,
            41.105,
            55.7522,
            40.2248,
            37.5663,
            35.685,
            -33.92,
            13.75,
            28.67,
            25.23,
            -33.92,
            -22.925,
            -34.6025,
            40.4
           ],
           "line": {
            "color": "blue",
            "width": 1.8423819691112266
           },
           "lon": [
            -3.6834,
            -9.1449,
            -73.9249,
            -99.131,
            -118.4068,
            -79.42,
            2.3333,
            -0.1167,
            11.575,
            12.4833,
            29.01,
            37.6155,
            116.1944,
            126.9997,
            139.7514,
            151.1852,
            100.5166,
            77.23,
            55.28,
            18.435,
            -43.225,
            -58.3975,
            -3.6834
           ],
           "marker": {
            "color": "red",
            "size": 4
           },
           "mode": "lines+markers",
           "text": [
            "Madrid",
            "Lisbon",
            "New York",
            "Mexico City",
            "Los Angeles",
            "Toronto",
            "Paris",
            "London",
            "Munich",
            "Rome",
            "Istanbul",
            "Moscow",
            "Changping",
            "Seoul",
            "Tokyo",
            "Sydney",
            "Bangkok",
            "Delhi",
            "Dubai",
            "Cape Town",
            "Rio de Janeiro",
            "Buenos Aires",
            "Madrid"
           ],
           "type": "scattergeo"
          }
         ]
        },
        {
         "data": [
          {
           "lat": [
            40.4,
            38.7227,
            40.6943,
            19.4424,
            34.1139,
            43.7,
            51.5,
            48.8667,
            48.1299,
            41.896,
            41.105,
            55.7522,
            40.2248,
            37.5663,
            35.685,
            -33.92,
            13.75,
            28.67,
            25.23,
            -33.92,
            -22.925,
            -34.6025,
            40.4
           ],
           "line": {
            "color": "blue",
            "width": 1.7905920750672277
           },
           "lon": [
            -3.6834,
            -9.1449,
            -73.9249,
            -99.131,
            -118.4068,
            -79.42,
            -0.1167,
            2.3333,
            11.575,
            12.4833,
            29.01,
            37.6155,
            116.1944,
            126.9997,
            139.7514,
            151.1852,
            100.5166,
            77.23,
            55.28,
            18.435,
            -43.225,
            -58.3975,
            -3.6834
           ],
           "marker": {
            "color": "red",
            "size": 4
           },
           "mode": "lines+markers",
           "text": [
            "Madrid",
            "Lisbon",
            "New York",
            "Mexico City",
            "Los Angeles",
            "Toronto",
            "London",
            "Paris",
            "Munich",
            "Rome",
            "Istanbul",
            "Moscow",
            "Changping",
            "Seoul",
            "Tokyo",
            "Sydney",
            "Bangkok",
            "Delhi",
            "Dubai",
            "Cape Town",
            "Rio de Janeiro",
            "Buenos Aires",
            "Madrid"
           ],
           "type": "scattergeo"
          }
         ]
        },
        {
         "data": [
          {
           "lat": [
            38.7227,
            40.6943,
            19.4424,
            34.1139,
            43.7,
            51.5,
            48.8667,
            48.1299,
            41.896,
            41.105,
            55.7522,
            40.2248,
            37.5663,
            35.685,
            -33.92,
            13.75,
            28.67,
            25.23,
            -33.92,
            -22.925,
            -34.6025,
            40.4,
            38.7227
           ],
           "line": {
            "color": "blue",
            "width": 1.7905920750672277
           },
           "lon": [
            -9.1449,
            -73.9249,
            -99.131,
            -118.4068,
            -79.42,
            -0.1167,
            2.3333,
            11.575,
            12.4833,
            29.01,
            37.6155,
            116.1944,
            126.9997,
            139.7514,
            151.1852,
            100.5166,
            77.23,
            55.28,
            18.435,
            -43.225,
            -58.3975,
            -3.6834,
            -9.1449
           ],
           "marker": {
            "color": "red",
            "size": 4
           },
           "mode": "lines+markers",
           "text": [
            "Lisbon",
            "New York",
            "Mexico City",
            "Los Angeles",
            "Toronto",
            "London",
            "Paris",
            "Munich",
            "Rome",
            "Istanbul",
            "Moscow",
            "Changping",
            "Seoul",
            "Tokyo",
            "Sydney",
            "Bangkok",
            "Delhi",
            "Dubai",
            "Cape Town",
            "Rio de Janeiro",
            "Buenos Aires",
            "Madrid",
            "Lisbon"
           ],
           "type": "scattergeo"
          }
         ]
        },
        {
         "data": [
          {
           "lat": [
            38.7227,
            40.6943,
            19.4424,
            34.1139,
            43.7,
            51.5,
            48.8667,
            48.1299,
            41.896,
            41.105,
            55.7522,
            40.2248,
            37.5663,
            35.685,
            -33.92,
            13.75,
            28.67,
            25.23,
            -33.92,
            -34.6025,
            -22.925,
            40.4,
            38.7227
           ],
           "line": {
            "color": "blue",
            "width": 1.6811491479955152
           },
           "lon": [
            -9.1449,
            -73.9249,
            -99.131,
            -118.4068,
            -79.42,
            -0.1167,
            2.3333,
            11.575,
            12.4833,
            29.01,
            37.6155,
            116.1944,
            126.9997,
            139.7514,
            151.1852,
            100.5166,
            77.23,
            55.28,
            18.435,
            -58.3975,
            -43.225,
            -3.6834,
            -9.1449
           ],
           "marker": {
            "color": "red",
            "size": 4
           },
           "mode": "lines+markers",
           "text": [
            "Lisbon",
            "New York",
            "Mexico City",
            "Los Angeles",
            "Toronto",
            "London",
            "Paris",
            "Munich",
            "Rome",
            "Istanbul",
            "Moscow",
            "Changping",
            "Seoul",
            "Tokyo",
            "Sydney",
            "Bangkok",
            "Delhi",
            "Dubai",
            "Cape Town",
            "Buenos Aires",
            "Rio de Janeiro",
            "Madrid",
            "Lisbon"
           ],
           "type": "scattergeo"
          }
         ]
        },
        {
         "data": [
          {
           "lat": [
            38.7227,
            40.6943,
            19.4424,
            34.1139,
            43.7,
            -22.925,
            -34.6025,
            -33.92,
            25.23,
            28.67,
            13.75,
            -33.92,
            35.685,
            37.5663,
            40.2248,
            55.7522,
            41.105,
            41.896,
            48.1299,
            48.8667,
            51.5,
            40.4,
            38.7227
           ],
           "line": {
            "color": "blue",
            "width": 1.249538854958815
           },
           "lon": [
            -9.1449,
            -73.9249,
            -99.131,
            -118.4068,
            -79.42,
            -43.225,
            -58.3975,
            18.435,
            55.28,
            77.23,
            100.5166,
            151.1852,
            139.7514,
            126.9997,
            116.1944,
            37.6155,
            29.01,
            12.4833,
            11.575,
            2.3333,
            -0.1167,
            -3.6834,
            -9.1449
           ],
           "marker": {
            "color": "red",
            "size": 4
           },
           "mode": "lines+markers",
           "text": [
            "Lisbon",
            "New York",
            "Mexico City",
            "Los Angeles",
            "Toronto",
            "Rio de Janeiro",
            "Buenos Aires",
            "Cape Town",
            "Dubai",
            "Delhi",
            "Bangkok",
            "Sydney",
            "Tokyo",
            "Seoul",
            "Changping",
            "Moscow",
            "Istanbul",
            "Rome",
            "Munich",
            "Paris",
            "London",
            "Madrid",
            "Lisbon"
           ],
           "type": "scattergeo"
          }
         ]
        },
        {
         "data": [
          {
           "lat": [
            38.7227,
            40.6943,
            19.4424,
            34.1139,
            43.7,
            -34.6025,
            -22.925,
            -33.92,
            25.23,
            28.67,
            13.75,
            -33.92,
            35.685,
            37.5663,
            40.2248,
            55.7522,
            41.105,
            41.896,
            48.1299,
            48.8667,
            51.5,
            40.4,
            38.7227
           ],
           "line": {
            "color": "blue",
            "width": 1.2373498349706176
           },
           "lon": [
            -9.1449,
            -73.9249,
            -99.131,
            -118.4068,
            -79.42,
            -58.3975,
            -43.225,
            18.435,
            55.28,
            77.23,
            100.5166,
            151.1852,
            139.7514,
            126.9997,
            116.1944,
            37.6155,
            29.01,
            12.4833,
            11.575,
            2.3333,
            -0.1167,
            -3.6834,
            -9.1449
           ],
           "marker": {
            "color": "red",
            "size": 4
           },
           "mode": "lines+markers",
           "text": [
            "Lisbon",
            "New York",
            "Mexico City",
            "Los Angeles",
            "Toronto",
            "Buenos Aires",
            "Rio de Janeiro",
            "Cape Town",
            "Dubai",
            "Delhi",
            "Bangkok",
            "Sydney",
            "Tokyo",
            "Seoul",
            "Changping",
            "Moscow",
            "Istanbul",
            "Rome",
            "Munich",
            "Paris",
            "London",
            "Madrid",
            "Lisbon"
           ],
           "type": "scattergeo"
          }
         ]
        },
        {
         "data": [
          {
           "lat": [
            38.7227,
            43.7,
            34.1139,
            19.4424,
            40.6943,
            -34.6025,
            -22.925,
            -33.92,
            25.23,
            28.67,
            13.75,
            -33.92,
            35.685,
            37.5663,
            40.2248,
            55.7522,
            41.105,
            41.896,
            48.1299,
            48.8667,
            51.5,
            40.4,
            38.7227
           ],
           "line": {
            "color": "blue",
            "width": 1.2242501538009005
           },
           "lon": [
            -9.1449,
            -79.42,
            -118.4068,
            -99.131,
            -73.9249,
            -58.3975,
            -43.225,
            18.435,
            55.28,
            77.23,
            100.5166,
            151.1852,
            139.7514,
            126.9997,
            116.1944,
            37.6155,
            29.01,
            12.4833,
            11.575,
            2.3333,
            -0.1167,
            -3.6834,
            -9.1449
           ],
           "marker": {
            "color": "red",
            "size": 4
           },
           "mode": "lines+markers",
           "text": [
            "Lisbon",
            "Toronto",
            "Los Angeles",
            "Mexico City",
            "New York",
            "Buenos Aires",
            "Rio de Janeiro",
            "Cape Town",
            "Dubai",
            "Delhi",
            "Bangkok",
            "Sydney",
            "Tokyo",
            "Seoul",
            "Changping",
            "Moscow",
            "Istanbul",
            "Rome",
            "Munich",
            "Paris",
            "London",
            "Madrid",
            "Lisbon"
           ],
           "type": "scattergeo"
          }
         ]
        },
        {
         "data": [
          {
           "lat": [
            40.6943,
            43.7,
            19.4424,
            34.1139,
            -34.6025,
            -22.925,
            -33.92,
            25.23,
            28.67,
            13.75,
            -33.92,
            35.685,
            37.5663,
            40.2248,
            55.7522,
            41.105,
            41.896,
            48.1299,
            48.8667,
            51.5,
            40.4,
            38.7227,
            40.6943
           ],
           "line": {
            "color": "blue",
            "width": 1.023590098372619
           },
           "lon": [
            -73.9249,
            -79.42,
            -99.131,
            -118.4068,
            -58.3975,
            -43.225,
            18.435,
            55.28,
            77.23,
            100.5166,
            151.1852,
            139.7514,
            126.9997,
            116.1944,
            37.6155,
            29.01,
            12.4833,
            11.575,
            2.3333,
            -0.1167,
            -3.6834,
            -9.1449,
            -73.9249
           ],
           "marker": {
            "color": "red",
            "size": 4
           },
           "mode": "lines+markers",
           "text": [
            "New York",
            "Toronto",
            "Mexico City",
            "Los Angeles",
            "Buenos Aires",
            "Rio de Janeiro",
            "Cape Town",
            "Dubai",
            "Delhi",
            "Bangkok",
            "Sydney",
            "Tokyo",
            "Seoul",
            "Changping",
            "Moscow",
            "Istanbul",
            "Rome",
            "Munich",
            "Paris",
            "London",
            "Madrid",
            "Lisbon",
            "New York"
           ],
           "type": "scattergeo"
          }
         ]
        },
        {
         "data": [
          {
           "lat": [
            40.6943,
            43.7,
            34.1139,
            19.4424,
            -34.6025,
            -22.925,
            -33.92,
            25.23,
            28.67,
            13.75,
            -33.92,
            35.685,
            37.5663,
            40.2248,
            55.7522,
            41.105,
            41.896,
            48.1299,
            48.8667,
            51.5,
            40.4,
            38.7227,
            40.6943
           ],
           "line": {
            "color": "blue",
            "width": 0.8000000000000015
           },
           "lon": [
            -73.9249,
            -79.42,
            -118.4068,
            -99.131,
            -58.3975,
            -43.225,
            18.435,
            55.28,
            77.23,
            100.5166,
            151.1852,
            139.7514,
            126.9997,
            116.1944,
            37.6155,
            29.01,
            12.4833,
            11.575,
            2.3333,
            -0.1167,
            -3.6834,
            -9.1449,
            -73.9249
           ],
           "marker": {
            "color": "red",
            "size": 4
           },
           "mode": "lines+markers",
           "text": [
            "New York",
            "Toronto",
            "Los Angeles",
            "Mexico City",
            "Buenos Aires",
            "Rio de Janeiro",
            "Cape Town",
            "Dubai",
            "Delhi",
            "Bangkok",
            "Sydney",
            "Tokyo",
            "Seoul",
            "Changping",
            "Moscow",
            "Istanbul",
            "Rome",
            "Munich",
            "Paris",
            "London",
            "Madrid",
            "Lisbon",
            "New York"
           ],
           "type": "scattergeo"
          }
         ]
        },
        {
         "data": [
          {
           "lat": [
            43.7,
            34.1139,
            19.4424,
            -34.6025,
            -22.925,
            -33.92,
            25.23,
            28.67,
            13.75,
            -33.92,
            35.685,
            37.5663,
            40.2248,
            55.7522,
            41.105,
            41.896,
            48.1299,
            48.8667,
            51.5,
            40.4,
            38.7227,
            40.6943,
            43.7
           ],
           "line": {
            "color": "blue",
            "width": 0.8
           },
           "lon": [
            -79.42,
            -118.4068,
            -99.131,
            -58.3975,
            -43.225,
            18.435,
            55.28,
            77.23,
            100.5166,
            151.1852,
            139.7514,
            126.9997,
            116.1944,
            37.6155,
            29.01,
            12.4833,
            11.575,
            2.3333,
            -0.1167,
            -3.6834,
            -9.1449,
            -73.9249,
            -79.42
           ],
           "marker": {
            "color": "red",
            "size": 4
           },
           "mode": "lines+markers",
           "text": [
            "Toronto",
            "Los Angeles",
            "Mexico City",
            "Buenos Aires",
            "Rio de Janeiro",
            "Cape Town",
            "Dubai",
            "Delhi",
            "Bangkok",
            "Sydney",
            "Tokyo",
            "Seoul",
            "Changping",
            "Moscow",
            "Istanbul",
            "Rome",
            "Munich",
            "Paris",
            "London",
            "Madrid",
            "Lisbon",
            "New York",
            "Toronto"
           ],
           "type": "scattergeo"
          }
         ]
        }
       ],
       "layout": {
        "hovermode": "closest",
        "template": {
         "data": {
          "bar": [
           {
            "error_x": {
             "color": "#2a3f5f"
            },
            "error_y": {
             "color": "#2a3f5f"
            },
            "marker": {
             "line": {
              "color": "#E5ECF6",
              "width": 0.5
             }
            },
            "type": "bar"
           }
          ],
          "barpolar": [
           {
            "marker": {
             "line": {
              "color": "#E5ECF6",
              "width": 0.5
             }
            },
            "type": "barpolar"
           }
          ],
          "carpet": [
           {
            "aaxis": {
             "endlinecolor": "#2a3f5f",
             "gridcolor": "white",
             "linecolor": "white",
             "minorgridcolor": "white",
             "startlinecolor": "#2a3f5f"
            },
            "baxis": {
             "endlinecolor": "#2a3f5f",
             "gridcolor": "white",
             "linecolor": "white",
             "minorgridcolor": "white",
             "startlinecolor": "#2a3f5f"
            },
            "type": "carpet"
           }
          ],
          "choropleth": [
           {
            "colorbar": {
             "outlinewidth": 0,
             "ticks": ""
            },
            "type": "choropleth"
           }
          ],
          "contour": [
           {
            "colorbar": {
             "outlinewidth": 0,
             "ticks": ""
            },
            "colorscale": [
             [
              0,
              "#0d0887"
             ],
             [
              0.1111111111111111,
              "#46039f"
             ],
             [
              0.2222222222222222,
              "#7201a8"
             ],
             [
              0.3333333333333333,
              "#9c179e"
             ],
             [
              0.4444444444444444,
              "#bd3786"
             ],
             [
              0.5555555555555556,
              "#d8576b"
             ],
             [
              0.6666666666666666,
              "#ed7953"
             ],
             [
              0.7777777777777778,
              "#fb9f3a"
             ],
             [
              0.8888888888888888,
              "#fdca26"
             ],
             [
              1,
              "#f0f921"
             ]
            ],
            "type": "contour"
           }
          ],
          "contourcarpet": [
           {
            "colorbar": {
             "outlinewidth": 0,
             "ticks": ""
            },
            "type": "contourcarpet"
           }
          ],
          "heatmap": [
           {
            "colorbar": {
             "outlinewidth": 0,
             "ticks": ""
            },
            "colorscale": [
             [
              0,
              "#0d0887"
             ],
             [
              0.1111111111111111,
              "#46039f"
             ],
             [
              0.2222222222222222,
              "#7201a8"
             ],
             [
              0.3333333333333333,
              "#9c179e"
             ],
             [
              0.4444444444444444,
              "#bd3786"
             ],
             [
              0.5555555555555556,
              "#d8576b"
             ],
             [
              0.6666666666666666,
              "#ed7953"
             ],
             [
              0.7777777777777778,
              "#fb9f3a"
             ],
             [
              0.8888888888888888,
              "#fdca26"
             ],
             [
              1,
              "#f0f921"
             ]
            ],
            "type": "heatmap"
           }
          ],
          "heatmapgl": [
           {
            "colorbar": {
             "outlinewidth": 0,
             "ticks": ""
            },
            "colorscale": [
             [
              0,
              "#0d0887"
             ],
             [
              0.1111111111111111,
              "#46039f"
             ],
             [
              0.2222222222222222,
              "#7201a8"
             ],
             [
              0.3333333333333333,
              "#9c179e"
             ],
             [
              0.4444444444444444,
              "#bd3786"
             ],
             [
              0.5555555555555556,
              "#d8576b"
             ],
             [
              0.6666666666666666,
              "#ed7953"
             ],
             [
              0.7777777777777778,
              "#fb9f3a"
             ],
             [
              0.8888888888888888,
              "#fdca26"
             ],
             [
              1,
              "#f0f921"
             ]
            ],
            "type": "heatmapgl"
           }
          ],
          "histogram": [
           {
            "marker": {
             "colorbar": {
              "outlinewidth": 0,
              "ticks": ""
             }
            },
            "type": "histogram"
           }
          ],
          "histogram2d": [
           {
            "colorbar": {
             "outlinewidth": 0,
             "ticks": ""
            },
            "colorscale": [
             [
              0,
              "#0d0887"
             ],
             [
              0.1111111111111111,
              "#46039f"
             ],
             [
              0.2222222222222222,
              "#7201a8"
             ],
             [
              0.3333333333333333,
              "#9c179e"
             ],
             [
              0.4444444444444444,
              "#bd3786"
             ],
             [
              0.5555555555555556,
              "#d8576b"
             ],
             [
              0.6666666666666666,
              "#ed7953"
             ],
             [
              0.7777777777777778,
              "#fb9f3a"
             ],
             [
              0.8888888888888888,
              "#fdca26"
             ],
             [
              1,
              "#f0f921"
             ]
            ],
            "type": "histogram2d"
           }
          ],
          "histogram2dcontour": [
           {
            "colorbar": {
             "outlinewidth": 0,
             "ticks": ""
            },
            "colorscale": [
             [
              0,
              "#0d0887"
             ],
             [
              0.1111111111111111,
              "#46039f"
             ],
             [
              0.2222222222222222,
              "#7201a8"
             ],
             [
              0.3333333333333333,
              "#9c179e"
             ],
             [
              0.4444444444444444,
              "#bd3786"
             ],
             [
              0.5555555555555556,
              "#d8576b"
             ],
             [
              0.6666666666666666,
              "#ed7953"
             ],
             [
              0.7777777777777778,
              "#fb9f3a"
             ],
             [
              0.8888888888888888,
              "#fdca26"
             ],
             [
              1,
              "#f0f921"
             ]
            ],
            "type": "histogram2dcontour"
           }
          ],
          "mesh3d": [
           {
            "colorbar": {
             "outlinewidth": 0,
             "ticks": ""
            },
            "type": "mesh3d"
           }
          ],
          "parcoords": [
           {
            "line": {
             "colorbar": {
              "outlinewidth": 0,
              "ticks": ""
             }
            },
            "type": "parcoords"
           }
          ],
          "scatter": [
           {
            "marker": {
             "colorbar": {
              "outlinewidth": 0,
              "ticks": ""
             }
            },
            "type": "scatter"
           }
          ],
          "scatter3d": [
           {
            "line": {
             "colorbar": {
              "outlinewidth": 0,
              "ticks": ""
             }
            },
            "marker": {
             "colorbar": {
              "outlinewidth": 0,
              "ticks": ""
             }
            },
            "type": "scatter3d"
           }
          ],
          "scattercarpet": [
           {
            "marker": {
             "colorbar": {
              "outlinewidth": 0,
              "ticks": ""
             }
            },
            "type": "scattercarpet"
           }
          ],
          "scattergeo": [
           {
            "marker": {
             "colorbar": {
              "outlinewidth": 0,
              "ticks": ""
             }
            },
            "type": "scattergeo"
           }
          ],
          "scattergl": [
           {
            "marker": {
             "colorbar": {
              "outlinewidth": 0,
              "ticks": ""
             }
            },
            "type": "scattergl"
           }
          ],
          "scattermapbox": [
           {
            "marker": {
             "colorbar": {
              "outlinewidth": 0,
              "ticks": ""
             }
            },
            "type": "scattermapbox"
           }
          ],
          "scatterpolar": [
           {
            "marker": {
             "colorbar": {
              "outlinewidth": 0,
              "ticks": ""
             }
            },
            "type": "scatterpolar"
           }
          ],
          "scatterpolargl": [
           {
            "marker": {
             "colorbar": {
              "outlinewidth": 0,
              "ticks": ""
             }
            },
            "type": "scatterpolargl"
           }
          ],
          "scatterternary": [
           {
            "marker": {
             "colorbar": {
              "outlinewidth": 0,
              "ticks": ""
             }
            },
            "type": "scatterternary"
           }
          ],
          "surface": [
           {
            "colorbar": {
             "outlinewidth": 0,
             "ticks": ""
            },
            "colorscale": [
             [
              0,
              "#0d0887"
             ],
             [
              0.1111111111111111,
              "#46039f"
             ],
             [
              0.2222222222222222,
              "#7201a8"
             ],
             [
              0.3333333333333333,
              "#9c179e"
             ],
             [
              0.4444444444444444,
              "#bd3786"
             ],
             [
              0.5555555555555556,
              "#d8576b"
             ],
             [
              0.6666666666666666,
              "#ed7953"
             ],
             [
              0.7777777777777778,
              "#fb9f3a"
             ],
             [
              0.8888888888888888,
              "#fdca26"
             ],
             [
              1,
              "#f0f921"
             ]
            ],
            "type": "surface"
           }
          ],
          "table": [
           {
            "cells": {
             "fill": {
              "color": "#EBF0F8"
             },
             "line": {
              "color": "white"
             }
            },
            "header": {
             "fill": {
              "color": "#C8D4E3"
             },
             "line": {
              "color": "white"
             }
            },
            "type": "table"
           }
          ]
         },
         "layout": {
          "annotationdefaults": {
           "arrowcolor": "#2a3f5f",
           "arrowhead": 0,
           "arrowwidth": 1
          },
          "colorscale": {
           "diverging": [
            [
             0,
             "#8e0152"
            ],
            [
             0.1,
             "#c51b7d"
            ],
            [
             0.2,
             "#de77ae"
            ],
            [
             0.3,
             "#f1b6da"
            ],
            [
             0.4,
             "#fde0ef"
            ],
            [
             0.5,
             "#f7f7f7"
            ],
            [
             0.6,
             "#e6f5d0"
            ],
            [
             0.7,
             "#b8e186"
            ],
            [
             0.8,
             "#7fbc41"
            ],
            [
             0.9,
             "#4d9221"
            ],
            [
             1,
             "#276419"
            ]
           ],
           "sequential": [
            [
             0,
             "#0d0887"
            ],
            [
             0.1111111111111111,
             "#46039f"
            ],
            [
             0.2222222222222222,
             "#7201a8"
            ],
            [
             0.3333333333333333,
             "#9c179e"
            ],
            [
             0.4444444444444444,
             "#bd3786"
            ],
            [
             0.5555555555555556,
             "#d8576b"
            ],
            [
             0.6666666666666666,
             "#ed7953"
            ],
            [
             0.7777777777777778,
             "#fb9f3a"
            ],
            [
             0.8888888888888888,
             "#fdca26"
            ],
            [
             1,
             "#f0f921"
            ]
           ],
           "sequentialminus": [
            [
             0,
             "#0d0887"
            ],
            [
             0.1111111111111111,
             "#46039f"
            ],
            [
             0.2222222222222222,
             "#7201a8"
            ],
            [
             0.3333333333333333,
             "#9c179e"
            ],
            [
             0.4444444444444444,
             "#bd3786"
            ],
            [
             0.5555555555555556,
             "#d8576b"
            ],
            [
             0.6666666666666666,
             "#ed7953"
            ],
            [
             0.7777777777777778,
             "#fb9f3a"
            ],
            [
             0.8888888888888888,
             "#fdca26"
            ],
            [
             1,
             "#f0f921"
            ]
           ]
          },
          "colorway": [
           "#636efa",
           "#EF553B",
           "#00cc96",
           "#ab63fa",
           "#FFA15A",
           "#19d3f3",
           "#FF6692",
           "#B6E880",
           "#FF97FF",
           "#FECB52"
          ],
          "font": {
           "color": "#2a3f5f"
          },
          "geo": {
           "bgcolor": "white",
           "lakecolor": "white",
           "landcolor": "#E5ECF6",
           "showlakes": true,
           "showland": true,
           "subunitcolor": "white"
          },
          "hoverlabel": {
           "align": "left"
          },
          "hovermode": "closest",
          "mapbox": {
           "style": "light"
          },
          "paper_bgcolor": "white",
          "plot_bgcolor": "#E5ECF6",
          "polar": {
           "angularaxis": {
            "gridcolor": "white",
            "linecolor": "white",
            "ticks": ""
           },
           "bgcolor": "#E5ECF6",
           "radialaxis": {
            "gridcolor": "white",
            "linecolor": "white",
            "ticks": ""
           }
          },
          "scene": {
           "xaxis": {
            "backgroundcolor": "#E5ECF6",
            "gridcolor": "white",
            "gridwidth": 2,
            "linecolor": "white",
            "showbackground": true,
            "ticks": "",
            "zerolinecolor": "white"
           },
           "yaxis": {
            "backgroundcolor": "#E5ECF6",
            "gridcolor": "white",
            "gridwidth": 2,
            "linecolor": "white",
            "showbackground": true,
            "ticks": "",
            "zerolinecolor": "white"
           },
           "zaxis": {
            "backgroundcolor": "#E5ECF6",
            "gridcolor": "white",
            "gridwidth": 2,
            "linecolor": "white",
            "showbackground": true,
            "ticks": "",
            "zerolinecolor": "white"
           }
          },
          "shapedefaults": {
           "line": {
            "color": "#2a3f5f"
           }
          },
          "ternary": {
           "aaxis": {
            "gridcolor": "white",
            "linecolor": "white",
            "ticks": ""
           },
           "baxis": {
            "gridcolor": "white",
            "linecolor": "white",
            "ticks": ""
           },
           "bgcolor": "#E5ECF6",
           "caxis": {
            "gridcolor": "white",
            "linecolor": "white",
            "ticks": ""
           }
          },
          "title": {
           "x": 0.05
          },
          "xaxis": {
           "automargin": true,
           "gridcolor": "white",
           "linecolor": "white",
           "ticks": "",
           "zerolinecolor": "white",
           "zerolinewidth": 2
          },
          "yaxis": {
           "automargin": true,
           "gridcolor": "white",
           "linecolor": "white",
           "ticks": "",
           "zerolinecolor": "white",
           "zerolinewidth": 2
          }
         }
        },
        "title": {
         "text": "TSP Problem"
        },
        "updatemenus": [
         {
          "buttons": [
           {
            "args": [
             null
            ],
            "label": "Play",
            "method": "animate"
           },
           {
            "args": [
             null
            ],
            "label": "Pause",
            "method": "animate"
           }
          ],
          "type": "buttons"
         }
        ]
       }
      },
      "text/html": [
       "<div>\n",
       "        \n",
       "        \n",
       "            <div id=\"6fe2955d-dfe1-4451-a5ac-c99ceab012e2\" class=\"plotly-graph-div\" style=\"height:525px; width:100%;\"></div>\n",
       "            <script type=\"text/javascript\">\n",
       "                require([\"plotly\"], function(Plotly) {\n",
       "                    window.PLOTLYENV=window.PLOTLYENV || {};\n",
       "                    \n",
       "                if (document.getElementById(\"6fe2955d-dfe1-4451-a5ac-c99ceab012e2\")) {\n",
       "                    Plotly.newPlot(\n",
       "                        '6fe2955d-dfe1-4451-a5ac-c99ceab012e2',\n",
       "                        [{\"hoverinfo\": \"text\", \"lat\": [51.5, 13.75, 40.2248, 37.5663, 25.23, 38.7227, -33.92, 28.67, 40.4, 35.685, 48.1299, 41.105, 55.7522, 34.1139, 48.8667, 41.896, 43.7, 19.4424, 40.6943, -34.6025, -22.925, -33.92, 51.5], \"line\": {\"color\": \"blue\", \"width\": 1}, \"lon\": [-0.1167, 100.5166, 116.1944, 126.9997, 55.28, -9.1449, 18.435, 77.23, -3.6834, 139.7514, 11.575, 29.01, 37.6155, -118.4068, 2.3333, 12.4833, -79.42, -99.131, -73.9249, -58.3975, -43.225, 151.1852, -0.1167], \"marker\": {\"color\": \"red\", \"size\": 4}, \"mode\": \"lines+markers\", \"text\": [\"London\", \"Bangkok\", \"Changping\", \"Seoul\", \"Dubai\", \"Lisbon\", \"Cape Town\", \"Delhi\", \"Madrid\", \"Tokyo\", \"Munich\", \"Istanbul\", \"Moscow\", \"Los Angeles\", \"Paris\", \"Rome\", \"Toronto\", \"Mexico City\", \"New York\", \"Buenos Aires\", \"Rio de Janeiro\", \"Sydney\", \"London\"], \"type\": \"scattergeo\"}],\n",
       "                        {\"hovermode\": \"closest\", \"template\": {\"data\": {\"bar\": [{\"error_x\": {\"color\": \"#2a3f5f\"}, \"error_y\": {\"color\": \"#2a3f5f\"}, \"marker\": {\"line\": {\"color\": \"#E5ECF6\", \"width\": 0.5}}, \"type\": \"bar\"}], \"barpolar\": [{\"marker\": {\"line\": {\"color\": \"#E5ECF6\", \"width\": 0.5}}, \"type\": \"barpolar\"}], \"carpet\": [{\"aaxis\": {\"endlinecolor\": \"#2a3f5f\", \"gridcolor\": \"white\", \"linecolor\": \"white\", \"minorgridcolor\": \"white\", \"startlinecolor\": \"#2a3f5f\"}, \"baxis\": {\"endlinecolor\": \"#2a3f5f\", \"gridcolor\": \"white\", \"linecolor\": \"white\", \"minorgridcolor\": \"white\", \"startlinecolor\": \"#2a3f5f\"}, \"type\": \"carpet\"}], \"choropleth\": [{\"colorbar\": {\"outlinewidth\": 0, \"ticks\": \"\"}, \"type\": \"choropleth\"}], \"contour\": [{\"colorbar\": {\"outlinewidth\": 0, \"ticks\": \"\"}, \"colorscale\": [[0.0, \"#0d0887\"], [0.1111111111111111, \"#46039f\"], [0.2222222222222222, \"#7201a8\"], [0.3333333333333333, \"#9c179e\"], [0.4444444444444444, \"#bd3786\"], [0.5555555555555556, \"#d8576b\"], [0.6666666666666666, \"#ed7953\"], [0.7777777777777778, \"#fb9f3a\"], [0.8888888888888888, \"#fdca26\"], [1.0, \"#f0f921\"]], \"type\": \"contour\"}], \"contourcarpet\": [{\"colorbar\": {\"outlinewidth\": 0, \"ticks\": \"\"}, \"type\": \"contourcarpet\"}], \"heatmap\": [{\"colorbar\": {\"outlinewidth\": 0, \"ticks\": \"\"}, \"colorscale\": [[0.0, \"#0d0887\"], [0.1111111111111111, \"#46039f\"], [0.2222222222222222, \"#7201a8\"], [0.3333333333333333, \"#9c179e\"], [0.4444444444444444, \"#bd3786\"], [0.5555555555555556, \"#d8576b\"], [0.6666666666666666, \"#ed7953\"], [0.7777777777777778, \"#fb9f3a\"], [0.8888888888888888, \"#fdca26\"], [1.0, \"#f0f921\"]], \"type\": \"heatmap\"}], \"heatmapgl\": [{\"colorbar\": {\"outlinewidth\": 0, \"ticks\": \"\"}, \"colorscale\": [[0.0, \"#0d0887\"], [0.1111111111111111, \"#46039f\"], [0.2222222222222222, \"#7201a8\"], [0.3333333333333333, \"#9c179e\"], [0.4444444444444444, \"#bd3786\"], [0.5555555555555556, \"#d8576b\"], [0.6666666666666666, \"#ed7953\"], [0.7777777777777778, \"#fb9f3a\"], [0.8888888888888888, \"#fdca26\"], [1.0, \"#f0f921\"]], \"type\": \"heatmapgl\"}], \"histogram\": [{\"marker\": {\"colorbar\": {\"outlinewidth\": 0, \"ticks\": \"\"}}, \"type\": \"histogram\"}], \"histogram2d\": [{\"colorbar\": {\"outlinewidth\": 0, \"ticks\": \"\"}, \"colorscale\": [[0.0, \"#0d0887\"], [0.1111111111111111, \"#46039f\"], [0.2222222222222222, \"#7201a8\"], [0.3333333333333333, \"#9c179e\"], [0.4444444444444444, \"#bd3786\"], [0.5555555555555556, \"#d8576b\"], [0.6666666666666666, \"#ed7953\"], [0.7777777777777778, \"#fb9f3a\"], [0.8888888888888888, \"#fdca26\"], [1.0, \"#f0f921\"]], \"type\": \"histogram2d\"}], \"histogram2dcontour\": [{\"colorbar\": {\"outlinewidth\": 0, \"ticks\": \"\"}, \"colorscale\": [[0.0, \"#0d0887\"], [0.1111111111111111, \"#46039f\"], [0.2222222222222222, \"#7201a8\"], [0.3333333333333333, \"#9c179e\"], [0.4444444444444444, \"#bd3786\"], [0.5555555555555556, \"#d8576b\"], [0.6666666666666666, \"#ed7953\"], [0.7777777777777778, \"#fb9f3a\"], [0.8888888888888888, \"#fdca26\"], [1.0, \"#f0f921\"]], \"type\": \"histogram2dcontour\"}], \"mesh3d\": [{\"colorbar\": {\"outlinewidth\": 0, \"ticks\": \"\"}, \"type\": \"mesh3d\"}], \"parcoords\": [{\"line\": {\"colorbar\": {\"outlinewidth\": 0, \"ticks\": \"\"}}, \"type\": \"parcoords\"}], \"scatter\": [{\"marker\": {\"colorbar\": {\"outlinewidth\": 0, \"ticks\": \"\"}}, \"type\": \"scatter\"}], \"scatter3d\": [{\"line\": {\"colorbar\": {\"outlinewidth\": 0, \"ticks\": \"\"}}, \"marker\": {\"colorbar\": {\"outlinewidth\": 0, \"ticks\": \"\"}}, \"type\": \"scatter3d\"}], \"scattercarpet\": [{\"marker\": {\"colorbar\": {\"outlinewidth\": 0, \"ticks\": \"\"}}, \"type\": \"scattercarpet\"}], \"scattergeo\": [{\"marker\": {\"colorbar\": {\"outlinewidth\": 0, \"ticks\": \"\"}}, \"type\": \"scattergeo\"}], \"scattergl\": [{\"marker\": {\"colorbar\": {\"outlinewidth\": 0, \"ticks\": \"\"}}, \"type\": \"scattergl\"}], \"scattermapbox\": [{\"marker\": {\"colorbar\": {\"outlinewidth\": 0, \"ticks\": \"\"}}, \"type\": \"scattermapbox\"}], \"scatterpolar\": [{\"marker\": {\"colorbar\": {\"outlinewidth\": 0, \"ticks\": \"\"}}, \"type\": \"scatterpolar\"}], \"scatterpolargl\": [{\"marker\": {\"colorbar\": {\"outlinewidth\": 0, \"ticks\": \"\"}}, \"type\": \"scatterpolargl\"}], \"scatterternary\": [{\"marker\": {\"colorbar\": {\"outlinewidth\": 0, \"ticks\": \"\"}}, \"type\": \"scatterternary\"}], \"surface\": [{\"colorbar\": {\"outlinewidth\": 0, \"ticks\": \"\"}, \"colorscale\": [[0.0, \"#0d0887\"], [0.1111111111111111, \"#46039f\"], [0.2222222222222222, \"#7201a8\"], [0.3333333333333333, \"#9c179e\"], [0.4444444444444444, \"#bd3786\"], [0.5555555555555556, \"#d8576b\"], [0.6666666666666666, \"#ed7953\"], [0.7777777777777778, \"#fb9f3a\"], [0.8888888888888888, \"#fdca26\"], [1.0, \"#f0f921\"]], \"type\": \"surface\"}], \"table\": [{\"cells\": {\"fill\": {\"color\": \"#EBF0F8\"}, \"line\": {\"color\": \"white\"}}, \"header\": {\"fill\": {\"color\": \"#C8D4E3\"}, \"line\": {\"color\": \"white\"}}, \"type\": \"table\"}]}, \"layout\": {\"annotationdefaults\": {\"arrowcolor\": \"#2a3f5f\", \"arrowhead\": 0, \"arrowwidth\": 1}, \"colorscale\": {\"diverging\": [[0, \"#8e0152\"], [0.1, \"#c51b7d\"], [0.2, \"#de77ae\"], [0.3, \"#f1b6da\"], [0.4, \"#fde0ef\"], [0.5, \"#f7f7f7\"], [0.6, \"#e6f5d0\"], [0.7, \"#b8e186\"], [0.8, \"#7fbc41\"], [0.9, \"#4d9221\"], [1, \"#276419\"]], \"sequential\": [[0.0, \"#0d0887\"], [0.1111111111111111, \"#46039f\"], [0.2222222222222222, \"#7201a8\"], [0.3333333333333333, \"#9c179e\"], [0.4444444444444444, \"#bd3786\"], [0.5555555555555556, \"#d8576b\"], [0.6666666666666666, \"#ed7953\"], [0.7777777777777778, \"#fb9f3a\"], [0.8888888888888888, \"#fdca26\"], [1.0, \"#f0f921\"]], \"sequentialminus\": [[0.0, \"#0d0887\"], [0.1111111111111111, \"#46039f\"], [0.2222222222222222, \"#7201a8\"], [0.3333333333333333, \"#9c179e\"], [0.4444444444444444, \"#bd3786\"], [0.5555555555555556, \"#d8576b\"], [0.6666666666666666, \"#ed7953\"], [0.7777777777777778, \"#fb9f3a\"], [0.8888888888888888, \"#fdca26\"], [1.0, \"#f0f921\"]]}, \"colorway\": [\"#636efa\", \"#EF553B\", \"#00cc96\", \"#ab63fa\", \"#FFA15A\", \"#19d3f3\", \"#FF6692\", \"#B6E880\", \"#FF97FF\", \"#FECB52\"], \"font\": {\"color\": \"#2a3f5f\"}, \"geo\": {\"bgcolor\": \"white\", \"lakecolor\": \"white\", \"landcolor\": \"#E5ECF6\", \"showlakes\": true, \"showland\": true, \"subunitcolor\": \"white\"}, \"hoverlabel\": {\"align\": \"left\"}, \"hovermode\": \"closest\", \"mapbox\": {\"style\": \"light\"}, \"paper_bgcolor\": \"white\", \"plot_bgcolor\": \"#E5ECF6\", \"polar\": {\"angularaxis\": {\"gridcolor\": \"white\", \"linecolor\": \"white\", \"ticks\": \"\"}, \"bgcolor\": \"#E5ECF6\", \"radialaxis\": {\"gridcolor\": \"white\", \"linecolor\": \"white\", \"ticks\": \"\"}}, \"scene\": {\"xaxis\": {\"backgroundcolor\": \"#E5ECF6\", \"gridcolor\": \"white\", \"gridwidth\": 2, \"linecolor\": \"white\", \"showbackground\": true, \"ticks\": \"\", \"zerolinecolor\": \"white\"}, \"yaxis\": {\"backgroundcolor\": \"#E5ECF6\", \"gridcolor\": \"white\", \"gridwidth\": 2, \"linecolor\": \"white\", \"showbackground\": true, \"ticks\": \"\", \"zerolinecolor\": \"white\"}, \"zaxis\": {\"backgroundcolor\": \"#E5ECF6\", \"gridcolor\": \"white\", \"gridwidth\": 2, \"linecolor\": \"white\", \"showbackground\": true, \"ticks\": \"\", \"zerolinecolor\": \"white\"}}, \"shapedefaults\": {\"line\": {\"color\": \"#2a3f5f\"}}, \"ternary\": {\"aaxis\": {\"gridcolor\": \"white\", \"linecolor\": \"white\", \"ticks\": \"\"}, \"baxis\": {\"gridcolor\": \"white\", \"linecolor\": \"white\", \"ticks\": \"\"}, \"bgcolor\": \"#E5ECF6\", \"caxis\": {\"gridcolor\": \"white\", \"linecolor\": \"white\", \"ticks\": \"\"}}, \"title\": {\"x\": 0.05}, \"xaxis\": {\"automargin\": true, \"gridcolor\": \"white\", \"linecolor\": \"white\", \"ticks\": \"\", \"zerolinecolor\": \"white\", \"zerolinewidth\": 2}, \"yaxis\": {\"automargin\": true, \"gridcolor\": \"white\", \"linecolor\": \"white\", \"ticks\": \"\", \"zerolinecolor\": \"white\", \"zerolinewidth\": 2}}}, \"title\": {\"text\": \"TSP Problem\"}, \"updatemenus\": [{\"buttons\": [{\"args\": [null], \"label\": \"Play\", \"method\": \"animate\"}, {\"args\": [null], \"label\": \"Pause\", \"method\": \"animate\"}], \"type\": \"buttons\"}]},\n",
       "                        {\"responsive\": true}\n",
       "                    ).then(function(){\n",
       "                            Plotly.addFrames('6fe2955d-dfe1-4451-a5ac-c99ceab012e2', [{\"data\": [{\"lat\": [51.5, 13.75, 40.2248, 37.5663, 25.23, 38.7227, -33.92, 28.67, 40.4, 35.685, 48.1299, 41.105, 55.7522, 34.1139, 48.8667, 41.896, 43.7, 19.4424, 40.6943, -34.6025, -22.925, -33.92, 51.5], \"line\": {\"color\": \"blue\", \"width\": 8.8}, \"lon\": [-0.1167, 100.5166, 116.1944, 126.9997, 55.28, -9.1449, 18.435, 77.23, -3.6834, 139.7514, 11.575, 29.01, 37.6155, -118.4068, 2.3333, 12.4833, -79.42, -99.131, -73.9249, -58.3975, -43.225, 151.1852, -0.1167], \"marker\": {\"color\": \"red\", \"size\": 4}, \"mode\": \"lines+markers\", \"text\": [\"London\", \"Bangkok\", \"Changping\", \"Seoul\", \"Dubai\", \"Lisbon\", \"Cape Town\", \"Delhi\", \"Madrid\", \"Tokyo\", \"Munich\", \"Istanbul\", \"Moscow\", \"Los Angeles\", \"Paris\", \"Rome\", \"Toronto\", \"Mexico City\", \"New York\", \"Buenos Aires\", \"Rio de Janeiro\", \"Sydney\", \"London\"], \"type\": \"scattergeo\"}]}, {\"data\": [{\"lat\": [51.5, 13.75, 40.2248, 37.5663, 25.23, 38.7227, -33.92, 28.67, 35.685, 48.1299, 41.105, 55.7522, 34.1139, 48.8667, 40.4, 41.896, 43.7, 19.4424, -22.925, -34.6025, 40.6943, -33.92, 51.5], \"line\": {\"color\": \"blue\", \"width\": 8.391398184307103}, \"lon\": [-0.1167, 100.5166, 116.1944, 126.9997, 55.28, -9.1449, 18.435, 77.23, 139.7514, 11.575, 29.01, 37.6155, -118.4068, 2.3333, -3.6834, 12.4833, -79.42, -99.131, -43.225, -58.3975, -73.9249, 151.1852, -0.1167], \"marker\": {\"color\": \"red\", \"size\": 4}, \"mode\": \"lines+markers\", \"text\": [\"London\", \"Bangkok\", \"Changping\", \"Seoul\", \"Dubai\", \"Lisbon\", \"Cape Town\", \"Delhi\", \"Tokyo\", \"Munich\", \"Istanbul\", \"Moscow\", \"Los Angeles\", \"Paris\", \"Madrid\", \"Rome\", \"Toronto\", \"Mexico City\", \"Rio de Janeiro\", \"Buenos Aires\", \"New York\", \"Sydney\", \"London\"], \"type\": \"scattergeo\"}]}, {\"data\": [{\"lat\": [13.75, 40.2248, 37.5663, 25.23, 38.7227, -33.92, -22.925, -34.6025, 40.6943, 19.4424, 43.7, 41.896, 48.8667, 48.1299, 41.105, 55.7522, 35.685, 40.4, 34.1139, 28.67, -33.92, 51.5, 13.75], \"line\": {\"color\": \"blue\", \"width\": 7.655327258712806}, \"lon\": [100.5166, 116.1944, 126.9997, 55.28, -9.1449, 18.435, -43.225, -58.3975, -73.9249, -99.131, -79.42, 12.4833, 2.3333, 11.575, 29.01, 37.6155, 139.7514, -3.6834, -118.4068, 77.23, 151.1852, -0.1167, 100.5166], \"marker\": {\"color\": \"red\", \"size\": 4}, \"mode\": \"lines+markers\", \"text\": [\"Bangkok\", \"Changping\", \"Seoul\", \"Dubai\", \"Lisbon\", \"Cape Town\", \"Rio de Janeiro\", \"Buenos Aires\", \"New York\", \"Mexico City\", \"Toronto\", \"Rome\", \"Paris\", \"Munich\", \"Istanbul\", \"Moscow\", \"Tokyo\", \"Madrid\", \"Los Angeles\", \"Delhi\", \"Sydney\", \"London\", \"Bangkok\"], \"type\": \"scattergeo\"}]}, {\"data\": [{\"lat\": [13.75, 40.2248, 37.5663, 25.23, 43.7, 19.4424, 40.6943, -34.6025, -22.925, -33.92, 38.7227, 41.896, 48.8667, 48.1299, 41.105, 55.7522, 35.685, 40.4, 34.1139, 28.67, -33.92, 51.5, 13.75], \"line\": {\"color\": \"blue\", \"width\": 7.6269008153171765}, \"lon\": [100.5166, 116.1944, 126.9997, 55.28, -79.42, -99.131, -73.9249, -58.3975, -43.225, 18.435, -9.1449, 12.4833, 2.3333, 11.575, 29.01, 37.6155, 139.7514, -3.6834, -118.4068, 77.23, 151.1852, -0.1167, 100.5166], \"marker\": {\"color\": \"red\", \"size\": 4}, \"mode\": \"lines+markers\", \"text\": [\"Bangkok\", \"Changping\", \"Seoul\", \"Dubai\", \"Toronto\", \"Mexico City\", \"New York\", \"Buenos Aires\", \"Rio de Janeiro\", \"Cape Town\", \"Lisbon\", \"Rome\", \"Paris\", \"Munich\", \"Istanbul\", \"Moscow\", \"Tokyo\", \"Madrid\", \"Los Angeles\", \"Delhi\", \"Sydney\", \"London\", \"Bangkok\"], \"type\": \"scattergeo\"}]}, {\"data\": [{\"lat\": [40.2248, 37.5663, 25.23, 43.7, 19.4424, 40.6943, -34.6025, -22.925, -33.92, 51.5, 38.7227, 41.896, 48.8667, 48.1299, 41.105, 55.7522, 35.685, 40.4, 34.1139, 28.67, -33.92, 13.75, 40.2248], \"line\": {\"color\": \"blue\", \"width\": 5.996090193556209}, \"lon\": [116.1944, 126.9997, 55.28, -79.42, -99.131, -73.9249, -58.3975, -43.225, 18.435, -0.1167, -9.1449, 12.4833, 2.3333, 11.575, 29.01, 37.6155, 139.7514, -3.6834, -118.4068, 77.23, 151.1852, 100.5166, 116.1944], \"marker\": {\"color\": \"red\", \"size\": 4}, \"mode\": \"lines+markers\", \"text\": [\"Changping\", \"Seoul\", \"Dubai\", \"Toronto\", \"Mexico City\", \"New York\", \"Buenos Aires\", \"Rio de Janeiro\", \"Cape Town\", \"London\", \"Lisbon\", \"Rome\", \"Paris\", \"Munich\", \"Istanbul\", \"Moscow\", \"Tokyo\", \"Madrid\", \"Los Angeles\", \"Delhi\", \"Sydney\", \"Bangkok\", \"Changping\"], \"type\": \"scattergeo\"}]}, {\"data\": [{\"lat\": [40.2248, 37.5663, 25.23, 43.7, 19.4424, 40.6943, -34.6025, -22.925, -33.92, 51.5, 38.7227, 48.8667, 41.896, 48.1299, 41.105, 55.7522, 35.685, 40.4, 34.1139, 28.67, -33.92, 13.75, 40.2248], \"line\": {\"color\": \"blue\", \"width\": 5.956287511064225}, \"lon\": [116.1944, 126.9997, 55.28, -79.42, -99.131, -73.9249, -58.3975, -43.225, 18.435, -0.1167, -9.1449, 2.3333, 12.4833, 11.575, 29.01, 37.6155, 139.7514, -3.6834, -118.4068, 77.23, 151.1852, 100.5166, 116.1944], \"marker\": {\"color\": \"red\", \"size\": 4}, \"mode\": \"lines+markers\", \"text\": [\"Changping\", \"Seoul\", \"Dubai\", \"Toronto\", \"Mexico City\", \"New York\", \"Buenos Aires\", \"Rio de Janeiro\", \"Cape Town\", \"London\", \"Lisbon\", \"Paris\", \"Rome\", \"Munich\", \"Istanbul\", \"Moscow\", \"Tokyo\", \"Madrid\", \"Los Angeles\", \"Delhi\", \"Sydney\", \"Bangkok\", \"Changping\"], \"type\": \"scattergeo\"}]}, {\"data\": [{\"lat\": [40.2248, 55.7522, 41.105, 48.1299, 41.896, 48.8667, 38.7227, 51.5, -33.92, -22.925, -34.6025, 40.6943, 19.4424, 43.7, 25.23, 37.5663, 35.685, 40.4, 34.1139, 28.67, -33.92, 13.75, 40.2248], \"line\": {\"color\": \"blue\", \"width\": 5.801211273848547}, \"lon\": [116.1944, 37.6155, 29.01, 11.575, 12.4833, 2.3333, -9.1449, -0.1167, 18.435, -43.225, -58.3975, -73.9249, -99.131, -79.42, 55.28, 126.9997, 139.7514, -3.6834, -118.4068, 77.23, 151.1852, 100.5166, 116.1944], \"marker\": {\"color\": \"red\", \"size\": 4}, \"mode\": \"lines+markers\", \"text\": [\"Changping\", \"Moscow\", \"Istanbul\", \"Munich\", \"Rome\", \"Paris\", \"Lisbon\", \"London\", \"Cape Town\", \"Rio de Janeiro\", \"Buenos Aires\", \"New York\", \"Mexico City\", \"Toronto\", \"Dubai\", \"Seoul\", \"Tokyo\", \"Madrid\", \"Los Angeles\", \"Delhi\", \"Sydney\", \"Bangkok\", \"Changping\"], \"type\": \"scattergeo\"}]}, {\"data\": [{\"lat\": [40.2248, 25.23, 43.7, 19.4424, 40.6943, -34.6025, -22.925, -33.92, 51.5, 38.7227, 48.8667, 41.896, 48.1299, 41.105, 55.7522, 37.5663, 35.685, 40.4, 34.1139, 28.67, -33.92, 13.75, 40.2248], \"line\": {\"color\": \"blue\", \"width\": 5.789973901712082}, \"lon\": [116.1944, 55.28, -79.42, -99.131, -73.9249, -58.3975, -43.225, 18.435, -0.1167, -9.1449, 2.3333, 12.4833, 11.575, 29.01, 37.6155, 126.9997, 139.7514, -3.6834, -118.4068, 77.23, 151.1852, 100.5166, 116.1944], \"marker\": {\"color\": \"red\", \"size\": 4}, \"mode\": \"lines+markers\", \"text\": [\"Changping\", \"Dubai\", \"Toronto\", \"Mexico City\", \"New York\", \"Buenos Aires\", \"Rio de Janeiro\", \"Cape Town\", \"London\", \"Lisbon\", \"Paris\", \"Rome\", \"Munich\", \"Istanbul\", \"Moscow\", \"Seoul\", \"Tokyo\", \"Madrid\", \"Los Angeles\", \"Delhi\", \"Sydney\", \"Bangkok\", \"Changping\"], \"type\": \"scattergeo\"}]}, {\"data\": [{\"lat\": [40.2248, 25.23, 41.105, 48.1299, 41.896, 48.8667, 38.7227, 51.5, -33.92, -22.925, -34.6025, 40.6943, 19.4424, 43.7, 55.7522, 37.5663, 35.685, 40.4, 34.1139, 28.67, -33.92, 13.75, 40.2248], \"line\": {\"color\": \"blue\", \"width\": 5.556449598049208}, \"lon\": [116.1944, 55.28, 29.01, 11.575, 12.4833, 2.3333, -9.1449, -0.1167, 18.435, -43.225, -58.3975, -73.9249, -99.131, -79.42, 37.6155, 126.9997, 139.7514, -3.6834, -118.4068, 77.23, 151.1852, 100.5166, 116.1944], \"marker\": {\"color\": \"red\", \"size\": 4}, \"mode\": \"lines+markers\", \"text\": [\"Changping\", \"Dubai\", \"Istanbul\", \"Munich\", \"Rome\", \"Paris\", \"Lisbon\", \"London\", \"Cape Town\", \"Rio de Janeiro\", \"Buenos Aires\", \"New York\", \"Mexico City\", \"Toronto\", \"Moscow\", \"Seoul\", \"Tokyo\", \"Madrid\", \"Los Angeles\", \"Delhi\", \"Sydney\", \"Bangkok\", \"Changping\"], \"type\": \"scattergeo\"}]}, {\"data\": [{\"lat\": [25.23, 43.7, 40.6943, 19.4424, 34.1139, 40.4, 35.685, 37.5663, 55.7522, 41.105, 48.1299, 41.896, 48.8667, 38.7227, 51.5, -33.92, -22.925, -34.6025, 28.67, -33.92, 13.75, 40.2248, 25.23], \"line\": {\"color\": \"blue\", \"width\": 5.21357929396295}, \"lon\": [55.28, -79.42, -73.9249, -99.131, -118.4068, -3.6834, 139.7514, 126.9997, 37.6155, 29.01, 11.575, 12.4833, 2.3333, -9.1449, -0.1167, 18.435, -43.225, -58.3975, 77.23, 151.1852, 100.5166, 116.1944, 55.28], \"marker\": {\"color\": \"red\", \"size\": 4}, \"mode\": \"lines+markers\", \"text\": [\"Dubai\", \"Toronto\", \"New York\", \"Mexico City\", \"Los Angeles\", \"Madrid\", \"Tokyo\", \"Seoul\", \"Moscow\", \"Istanbul\", \"Munich\", \"Rome\", \"Paris\", \"Lisbon\", \"London\", \"Cape Town\", \"Rio de Janeiro\", \"Buenos Aires\", \"Delhi\", \"Sydney\", \"Bangkok\", \"Changping\", \"Dubai\"], \"type\": \"scattergeo\"}]}, {\"data\": [{\"lat\": [25.23, 43.7, 40.6943, 19.4424, 34.1139, 40.4, -34.6025, -22.925, -33.92, 51.5, 38.7227, 48.8667, 41.896, 48.1299, 41.105, 55.7522, 37.5663, 35.685, 28.67, -33.92, 13.75, 40.2248, 25.23], \"line\": {\"color\": \"blue\", \"width\": 4.145306570699246}, \"lon\": [55.28, -79.42, -73.9249, -99.131, -118.4068, -3.6834, -58.3975, -43.225, 18.435, -0.1167, -9.1449, 2.3333, 12.4833, 11.575, 29.01, 37.6155, 126.9997, 139.7514, 77.23, 151.1852, 100.5166, 116.1944, 55.28], \"marker\": {\"color\": \"red\", \"size\": 4}, \"mode\": \"lines+markers\", \"text\": [\"Dubai\", \"Toronto\", \"New York\", \"Mexico City\", \"Los Angeles\", \"Madrid\", \"Buenos Aires\", \"Rio de Janeiro\", \"Cape Town\", \"London\", \"Lisbon\", \"Paris\", \"Rome\", \"Munich\", \"Istanbul\", \"Moscow\", \"Seoul\", \"Tokyo\", \"Delhi\", \"Sydney\", \"Bangkok\", \"Changping\", \"Dubai\"], \"type\": \"scattergeo\"}]}, {\"data\": [{\"lat\": [25.23, 43.7, 40.6943, 19.4424, 34.1139, 38.7227, 51.5, -33.92, -22.925, -34.6025, 40.4, 48.8667, 41.896, 48.1299, 41.105, 55.7522, 37.5663, 35.685, 28.67, -33.92, 13.75, 40.2248, 25.23], \"line\": {\"color\": \"blue\", \"width\": 4.0810386358020745}, \"lon\": [55.28, -79.42, -73.9249, -99.131, -118.4068, -9.1449, -0.1167, 18.435, -43.225, -58.3975, -3.6834, 2.3333, 12.4833, 11.575, 29.01, 37.6155, 126.9997, 139.7514, 77.23, 151.1852, 100.5166, 116.1944, 55.28], \"marker\": {\"color\": \"red\", \"size\": 4}, \"mode\": \"lines+markers\", \"text\": [\"Dubai\", \"Toronto\", \"New York\", \"Mexico City\", \"Los Angeles\", \"Lisbon\", \"London\", \"Cape Town\", \"Rio de Janeiro\", \"Buenos Aires\", \"Madrid\", \"Paris\", \"Rome\", \"Munich\", \"Istanbul\", \"Moscow\", \"Seoul\", \"Tokyo\", \"Delhi\", \"Sydney\", \"Bangkok\", \"Changping\", \"Dubai\"], \"type\": \"scattergeo\"}]}, {\"data\": [{\"lat\": [40.4, 43.7, 40.6943, 19.4424, 34.1139, 38.7227, 51.5, 48.8667, 41.896, 48.1299, 41.105, 55.7522, 37.5663, 35.685, 28.67, -33.92, 13.75, 40.2248, 25.23, -33.92, -22.925, -34.6025, 40.4], \"line\": {\"color\": \"blue\", \"width\": 3.3037935473986524}, \"lon\": [-3.6834, -79.42, -73.9249, -99.131, -118.4068, -9.1449, -0.1167, 2.3333, 12.4833, 11.575, 29.01, 37.6155, 126.9997, 139.7514, 77.23, 151.1852, 100.5166, 116.1944, 55.28, 18.435, -43.225, -58.3975, -3.6834], \"marker\": {\"color\": \"red\", \"size\": 4}, \"mode\": \"lines+markers\", \"text\": [\"Madrid\", \"Toronto\", \"New York\", \"Mexico City\", \"Los Angeles\", \"Lisbon\", \"London\", \"Paris\", \"Rome\", \"Munich\", \"Istanbul\", \"Moscow\", \"Seoul\", \"Tokyo\", \"Delhi\", \"Sydney\", \"Bangkok\", \"Changping\", \"Dubai\", \"Cape Town\", \"Rio de Janeiro\", \"Buenos Aires\", \"Madrid\"], \"type\": \"scattergeo\"}]}, {\"data\": [{\"lat\": [19.4424, 34.1139, 37.5663, 35.685, 13.75, -33.92, 28.67, 40.2248, 25.23, 55.7522, 41.105, 48.1299, 41.896, 48.8667, 38.7227, 51.5, -33.92, -22.925, -34.6025, 40.4, 43.7, 40.6943, 19.4424], \"line\": {\"color\": \"blue\", \"width\": 3.2910330615200385}, \"lon\": [-99.131, -118.4068, 126.9997, 139.7514, 100.5166, 151.1852, 77.23, 116.1944, 55.28, 37.6155, 29.01, 11.575, 12.4833, 2.3333, -9.1449, -0.1167, 18.435, -43.225, -58.3975, -3.6834, -79.42, -73.9249, -99.131], \"marker\": {\"color\": \"red\", \"size\": 4}, \"mode\": \"lines+markers\", \"text\": [\"Mexico City\", \"Los Angeles\", \"Seoul\", \"Tokyo\", \"Bangkok\", \"Sydney\", \"Delhi\", \"Changping\", \"Dubai\", \"Moscow\", \"Istanbul\", \"Munich\", \"Rome\", \"Paris\", \"Lisbon\", \"London\", \"Cape Town\", \"Rio de Janeiro\", \"Buenos Aires\", \"Madrid\", \"Toronto\", \"New York\", \"Mexico City\"], \"type\": \"scattergeo\"}]}, {\"data\": [{\"lat\": [40.4, 43.7, 40.6943, 19.4424, 34.1139, 38.7227, 51.5, 48.8667, 41.896, 48.1299, 41.105, 55.7522, 37.5663, 35.685, -33.92, 28.67, 13.75, 40.2248, 25.23, -33.92, -22.925, -34.6025, 40.4], \"line\": {\"color\": \"blue\", \"width\": 3.0411751408886385}, \"lon\": [-3.6834, -79.42, -73.9249, -99.131, -118.4068, -9.1449, -0.1167, 2.3333, 12.4833, 11.575, 29.01, 37.6155, 126.9997, 139.7514, 151.1852, 77.23, 100.5166, 116.1944, 55.28, 18.435, -43.225, -58.3975, -3.6834], \"marker\": {\"color\": \"red\", \"size\": 4}, \"mode\": \"lines+markers\", \"text\": [\"Madrid\", \"Toronto\", \"New York\", \"Mexico City\", \"Los Angeles\", \"Lisbon\", \"London\", \"Paris\", \"Rome\", \"Munich\", \"Istanbul\", \"Moscow\", \"Seoul\", \"Tokyo\", \"Sydney\", \"Delhi\", \"Bangkok\", \"Changping\", \"Dubai\", \"Cape Town\", \"Rio de Janeiro\", \"Buenos Aires\", \"Madrid\"], \"type\": \"scattergeo\"}]}, {\"data\": [{\"lat\": [40.4, 43.7, 34.1139, 19.4424, 40.6943, 38.7227, 51.5, 48.8667, 41.896, 48.1299, 41.105, 55.7522, 37.5663, 35.685, -33.92, 28.67, 13.75, 40.2248, 25.23, -33.92, -22.925, -34.6025, 40.4], \"line\": {\"color\": \"blue\", \"width\": 2.963921980528853}, \"lon\": [-3.6834, -79.42, -118.4068, -99.131, -73.9249, -9.1449, -0.1167, 2.3333, 12.4833, 11.575, 29.01, 37.6155, 126.9997, 139.7514, 151.1852, 77.23, 100.5166, 116.1944, 55.28, 18.435, -43.225, -58.3975, -3.6834], \"marker\": {\"color\": \"red\", \"size\": 4}, \"mode\": \"lines+markers\", \"text\": [\"Madrid\", \"Toronto\", \"Los Angeles\", \"Mexico City\", \"New York\", \"Lisbon\", \"London\", \"Paris\", \"Rome\", \"Munich\", \"Istanbul\", \"Moscow\", \"Seoul\", \"Tokyo\", \"Sydney\", \"Delhi\", \"Bangkok\", \"Changping\", \"Dubai\", \"Cape Town\", \"Rio de Janeiro\", \"Buenos Aires\", \"Madrid\"], \"type\": \"scattergeo\"}]}, {\"data\": [{\"lat\": [40.4, 43.7, 34.1139, 19.4424, 40.6943, 38.7227, 51.5, 48.8667, 41.896, 48.1299, 41.105, 55.7522, 37.5663, 35.685, -33.92, 40.2248, 13.75, 28.67, 25.23, -33.92, -22.925, -34.6025, 40.4], \"line\": {\"color\": \"blue\", \"width\": 2.458423719264922}, \"lon\": [-3.6834, -79.42, -118.4068, -99.131, -73.9249, -9.1449, -0.1167, 2.3333, 12.4833, 11.575, 29.01, 37.6155, 126.9997, 139.7514, 151.1852, 116.1944, 100.5166, 77.23, 55.28, 18.435, -43.225, -58.3975, -3.6834], \"marker\": {\"color\": \"red\", \"size\": 4}, \"mode\": \"lines+markers\", \"text\": [\"Madrid\", \"Toronto\", \"Los Angeles\", \"Mexico City\", \"New York\", \"Lisbon\", \"London\", \"Paris\", \"Rome\", \"Munich\", \"Istanbul\", \"Moscow\", \"Seoul\", \"Tokyo\", \"Sydney\", \"Changping\", \"Bangkok\", \"Delhi\", \"Dubai\", \"Cape Town\", \"Rio de Janeiro\", \"Buenos Aires\", \"Madrid\"], \"type\": \"scattergeo\"}]}, {\"data\": [{\"lat\": [40.4, 43.7, 34.1139, 19.4424, 40.6943, 38.7227, 51.5, 48.8667, 48.1299, 41.896, 41.105, 55.7522, 37.5663, 35.685, -33.92, 40.2248, 13.75, 28.67, 25.23, -33.92, -22.925, -34.6025, 40.4], \"line\": {\"color\": \"blue\", \"width\": 2.395906731627305}, \"lon\": [-3.6834, -79.42, -118.4068, -99.131, -73.9249, -9.1449, -0.1167, 2.3333, 11.575, 12.4833, 29.01, 37.6155, 126.9997, 139.7514, 151.1852, 116.1944, 100.5166, 77.23, 55.28, 18.435, -43.225, -58.3975, -3.6834], \"marker\": {\"color\": \"red\", \"size\": 4}, \"mode\": \"lines+markers\", \"text\": [\"Madrid\", \"Toronto\", \"Los Angeles\", \"Mexico City\", \"New York\", \"Lisbon\", \"London\", \"Paris\", \"Munich\", \"Rome\", \"Istanbul\", \"Moscow\", \"Seoul\", \"Tokyo\", \"Sydney\", \"Changping\", \"Bangkok\", \"Delhi\", \"Dubai\", \"Cape Town\", \"Rio de Janeiro\", \"Buenos Aires\", \"Madrid\"], \"type\": \"scattergeo\"}]}, {\"data\": [{\"lat\": [40.4, 43.7, 34.1139, 19.4424, 40.6943, 38.7227, 51.5, 48.8667, 48.1299, 41.896, 41.105, 55.7522, 37.5663, 35.685, 40.2248, -33.92, 13.75, 28.67, 25.23, -33.92, -22.925, -34.6025, 40.4], \"line\": {\"color\": \"blue\", \"width\": 2.2467202478711115}, \"lon\": [-3.6834, -79.42, -118.4068, -99.131, -73.9249, -9.1449, -0.1167, 2.3333, 11.575, 12.4833, 29.01, 37.6155, 126.9997, 139.7514, 116.1944, 151.1852, 100.5166, 77.23, 55.28, 18.435, -43.225, -58.3975, -3.6834], \"marker\": {\"color\": \"red\", \"size\": 4}, \"mode\": \"lines+markers\", \"text\": [\"Madrid\", \"Toronto\", \"Los Angeles\", \"Mexico City\", \"New York\", \"Lisbon\", \"London\", \"Paris\", \"Munich\", \"Rome\", \"Istanbul\", \"Moscow\", \"Seoul\", \"Tokyo\", \"Changping\", \"Sydney\", \"Bangkok\", \"Delhi\", \"Dubai\", \"Cape Town\", \"Rio de Janeiro\", \"Buenos Aires\", \"Madrid\"], \"type\": \"scattergeo\"}]}, {\"data\": [{\"lat\": [40.4, 38.7227, 40.6943, 19.4424, 34.1139, 43.7, 51.5, 48.8667, 48.1299, 41.896, 41.105, 55.7522, 37.5663, 35.685, 40.2248, -33.92, 13.75, 28.67, 25.23, -33.92, -22.925, -34.6025, 40.4], \"line\": {\"color\": \"blue\", \"width\": 2.105949789918959}, \"lon\": [-3.6834, -9.1449, -73.9249, -99.131, -118.4068, -79.42, -0.1167, 2.3333, 11.575, 12.4833, 29.01, 37.6155, 126.9997, 139.7514, 116.1944, 151.1852, 100.5166, 77.23, 55.28, 18.435, -43.225, -58.3975, -3.6834], \"marker\": {\"color\": \"red\", \"size\": 4}, \"mode\": \"lines+markers\", \"text\": [\"Madrid\", \"Lisbon\", \"New York\", \"Mexico City\", \"Los Angeles\", \"Toronto\", \"London\", \"Paris\", \"Munich\", \"Rome\", \"Istanbul\", \"Moscow\", \"Seoul\", \"Tokyo\", \"Changping\", \"Sydney\", \"Bangkok\", \"Delhi\", \"Dubai\", \"Cape Town\", \"Rio de Janeiro\", \"Buenos Aires\", \"Madrid\"], \"type\": \"scattergeo\"}]}, {\"data\": [{\"lat\": [40.4, 43.7, 34.1139, 19.4424, 40.6943, 38.7227, 51.5, 48.8667, 48.1299, 41.896, 41.105, 55.7522, 40.2248, 35.685, 37.5663, -33.92, 13.75, 28.67, 25.23, -33.92, -22.925, -34.6025, 40.4], \"line\": {\"color\": \"blue\", \"width\": 2.095636610024326}, \"lon\": [-3.6834, -79.42, -118.4068, -99.131, -73.9249, -9.1449, -0.1167, 2.3333, 11.575, 12.4833, 29.01, 37.6155, 116.1944, 139.7514, 126.9997, 151.1852, 100.5166, 77.23, 55.28, 18.435, -43.225, -58.3975, -3.6834], \"marker\": {\"color\": \"red\", \"size\": 4}, \"mode\": \"lines+markers\", \"text\": [\"Madrid\", \"Toronto\", \"Los Angeles\", \"Mexico City\", \"New York\", \"Lisbon\", \"London\", \"Paris\", \"Munich\", \"Rome\", \"Istanbul\", \"Moscow\", \"Changping\", \"Tokyo\", \"Seoul\", \"Sydney\", \"Bangkok\", \"Delhi\", \"Dubai\", \"Cape Town\", \"Rio de Janeiro\", \"Buenos Aires\", \"Madrid\"], \"type\": \"scattergeo\"}]}, {\"data\": [{\"lat\": [40.4, 38.7227, 40.6943, 19.4424, 34.1139, 43.7, 51.5, 48.8667, 48.1299, 41.896, 41.105, 55.7522, 40.2248, 35.685, 37.5663, -33.92, 13.75, 28.67, 25.23, -33.92, -22.925, -34.6025, 40.4], \"line\": {\"color\": \"blue\", \"width\": 1.9548661520721737}, \"lon\": [-3.6834, -9.1449, -73.9249, -99.131, -118.4068, -79.42, -0.1167, 2.3333, 11.575, 12.4833, 29.01, 37.6155, 116.1944, 139.7514, 126.9997, 151.1852, 100.5166, 77.23, 55.28, 18.435, -43.225, -58.3975, -3.6834], \"marker\": {\"color\": \"red\", \"size\": 4}, \"mode\": \"lines+markers\", \"text\": [\"Madrid\", \"Lisbon\", \"New York\", \"Mexico City\", \"Los Angeles\", \"Toronto\", \"London\", \"Paris\", \"Munich\", \"Rome\", \"Istanbul\", \"Moscow\", \"Changping\", \"Tokyo\", \"Seoul\", \"Sydney\", \"Bangkok\", \"Delhi\", \"Dubai\", \"Cape Town\", \"Rio de Janeiro\", \"Buenos Aires\", \"Madrid\"], \"type\": \"scattergeo\"}]}, {\"data\": [{\"lat\": [40.4, 38.7227, 40.6943, 34.1139, 19.4424, 43.7, 48.8667, 51.5, 48.1299, 41.896, 41.105, 55.7522, 40.2248, 37.5663, 35.685, -33.92, 13.75, 28.67, 25.23, -33.92, -22.925, -34.6025, 40.4], \"line\": {\"color\": \"blue\", \"width\": 1.8775469526051554}, \"lon\": [-3.6834, -9.1449, -73.9249, -118.4068, -99.131, -79.42, 2.3333, -0.1167, 11.575, 12.4833, 29.01, 37.6155, 116.1944, 126.9997, 139.7514, 151.1852, 100.5166, 77.23, 55.28, 18.435, -43.225, -58.3975, -3.6834], \"marker\": {\"color\": \"red\", \"size\": 4}, \"mode\": \"lines+markers\", \"text\": [\"Madrid\", \"Lisbon\", \"New York\", \"Los Angeles\", \"Mexico City\", \"Toronto\", \"Paris\", \"London\", \"Munich\", \"Rome\", \"Istanbul\", \"Moscow\", \"Changping\", \"Seoul\", \"Tokyo\", \"Sydney\", \"Bangkok\", \"Delhi\", \"Dubai\", \"Cape Town\", \"Rio de Janeiro\", \"Buenos Aires\", \"Madrid\"], \"type\": \"scattergeo\"}]}, {\"data\": [{\"lat\": [40.4, 38.7227, 40.6943, 19.4424, 34.1139, 43.7, 48.8667, 51.5, 48.1299, 41.896, 41.105, 55.7522, 40.2248, 37.5663, 35.685, -33.92, 13.75, 28.67, 25.23, -33.92, -22.925, -34.6025, 40.4], \"line\": {\"color\": \"blue\", \"width\": 1.8423819691112266}, \"lon\": [-3.6834, -9.1449, -73.9249, -99.131, -118.4068, -79.42, 2.3333, -0.1167, 11.575, 12.4833, 29.01, 37.6155, 116.1944, 126.9997, 139.7514, 151.1852, 100.5166, 77.23, 55.28, 18.435, -43.225, -58.3975, -3.6834], \"marker\": {\"color\": \"red\", \"size\": 4}, \"mode\": \"lines+markers\", \"text\": [\"Madrid\", \"Lisbon\", \"New York\", \"Mexico City\", \"Los Angeles\", \"Toronto\", \"Paris\", \"London\", \"Munich\", \"Rome\", \"Istanbul\", \"Moscow\", \"Changping\", \"Seoul\", \"Tokyo\", \"Sydney\", \"Bangkok\", \"Delhi\", \"Dubai\", \"Cape Town\", \"Rio de Janeiro\", \"Buenos Aires\", \"Madrid\"], \"type\": \"scattergeo\"}]}, {\"data\": [{\"lat\": [40.4, 38.7227, 40.6943, 19.4424, 34.1139, 43.7, 51.5, 48.8667, 48.1299, 41.896, 41.105, 55.7522, 40.2248, 37.5663, 35.685, -33.92, 13.75, 28.67, 25.23, -33.92, -22.925, -34.6025, 40.4], \"line\": {\"color\": \"blue\", \"width\": 1.7905920750672277}, \"lon\": [-3.6834, -9.1449, -73.9249, -99.131, -118.4068, -79.42, -0.1167, 2.3333, 11.575, 12.4833, 29.01, 37.6155, 116.1944, 126.9997, 139.7514, 151.1852, 100.5166, 77.23, 55.28, 18.435, -43.225, -58.3975, -3.6834], \"marker\": {\"color\": \"red\", \"size\": 4}, \"mode\": \"lines+markers\", \"text\": [\"Madrid\", \"Lisbon\", \"New York\", \"Mexico City\", \"Los Angeles\", \"Toronto\", \"London\", \"Paris\", \"Munich\", \"Rome\", \"Istanbul\", \"Moscow\", \"Changping\", \"Seoul\", \"Tokyo\", \"Sydney\", \"Bangkok\", \"Delhi\", \"Dubai\", \"Cape Town\", \"Rio de Janeiro\", \"Buenos Aires\", \"Madrid\"], \"type\": \"scattergeo\"}]}, {\"data\": [{\"lat\": [38.7227, 40.6943, 19.4424, 34.1139, 43.7, 51.5, 48.8667, 48.1299, 41.896, 41.105, 55.7522, 40.2248, 37.5663, 35.685, -33.92, 13.75, 28.67, 25.23, -33.92, -22.925, -34.6025, 40.4, 38.7227], \"line\": {\"color\": \"blue\", \"width\": 1.7905920750672277}, \"lon\": [-9.1449, -73.9249, -99.131, -118.4068, -79.42, -0.1167, 2.3333, 11.575, 12.4833, 29.01, 37.6155, 116.1944, 126.9997, 139.7514, 151.1852, 100.5166, 77.23, 55.28, 18.435, -43.225, -58.3975, -3.6834, -9.1449], \"marker\": {\"color\": \"red\", \"size\": 4}, \"mode\": \"lines+markers\", \"text\": [\"Lisbon\", \"New York\", \"Mexico City\", \"Los Angeles\", \"Toronto\", \"London\", \"Paris\", \"Munich\", \"Rome\", \"Istanbul\", \"Moscow\", \"Changping\", \"Seoul\", \"Tokyo\", \"Sydney\", \"Bangkok\", \"Delhi\", \"Dubai\", \"Cape Town\", \"Rio de Janeiro\", \"Buenos Aires\", \"Madrid\", \"Lisbon\"], \"type\": \"scattergeo\"}]}, {\"data\": [{\"lat\": [38.7227, 40.6943, 19.4424, 34.1139, 43.7, 51.5, 48.8667, 48.1299, 41.896, 41.105, 55.7522, 40.2248, 37.5663, 35.685, -33.92, 13.75, 28.67, 25.23, -33.92, -34.6025, -22.925, 40.4, 38.7227], \"line\": {\"color\": \"blue\", \"width\": 1.6811491479955152}, \"lon\": [-9.1449, -73.9249, -99.131, -118.4068, -79.42, -0.1167, 2.3333, 11.575, 12.4833, 29.01, 37.6155, 116.1944, 126.9997, 139.7514, 151.1852, 100.5166, 77.23, 55.28, 18.435, -58.3975, -43.225, -3.6834, -9.1449], \"marker\": {\"color\": \"red\", \"size\": 4}, \"mode\": \"lines+markers\", \"text\": [\"Lisbon\", \"New York\", \"Mexico City\", \"Los Angeles\", \"Toronto\", \"London\", \"Paris\", \"Munich\", \"Rome\", \"Istanbul\", \"Moscow\", \"Changping\", \"Seoul\", \"Tokyo\", \"Sydney\", \"Bangkok\", \"Delhi\", \"Dubai\", \"Cape Town\", \"Buenos Aires\", \"Rio de Janeiro\", \"Madrid\", \"Lisbon\"], \"type\": \"scattergeo\"}]}, {\"data\": [{\"lat\": [38.7227, 40.6943, 19.4424, 34.1139, 43.7, -22.925, -34.6025, -33.92, 25.23, 28.67, 13.75, -33.92, 35.685, 37.5663, 40.2248, 55.7522, 41.105, 41.896, 48.1299, 48.8667, 51.5, 40.4, 38.7227], \"line\": {\"color\": \"blue\", \"width\": 1.249538854958815}, \"lon\": [-9.1449, -73.9249, -99.131, -118.4068, -79.42, -43.225, -58.3975, 18.435, 55.28, 77.23, 100.5166, 151.1852, 139.7514, 126.9997, 116.1944, 37.6155, 29.01, 12.4833, 11.575, 2.3333, -0.1167, -3.6834, -9.1449], \"marker\": {\"color\": \"red\", \"size\": 4}, \"mode\": \"lines+markers\", \"text\": [\"Lisbon\", \"New York\", \"Mexico City\", \"Los Angeles\", \"Toronto\", \"Rio de Janeiro\", \"Buenos Aires\", \"Cape Town\", \"Dubai\", \"Delhi\", \"Bangkok\", \"Sydney\", \"Tokyo\", \"Seoul\", \"Changping\", \"Moscow\", \"Istanbul\", \"Rome\", \"Munich\", \"Paris\", \"London\", \"Madrid\", \"Lisbon\"], \"type\": \"scattergeo\"}]}, {\"data\": [{\"lat\": [38.7227, 40.6943, 19.4424, 34.1139, 43.7, -34.6025, -22.925, -33.92, 25.23, 28.67, 13.75, -33.92, 35.685, 37.5663, 40.2248, 55.7522, 41.105, 41.896, 48.1299, 48.8667, 51.5, 40.4, 38.7227], \"line\": {\"color\": \"blue\", \"width\": 1.2373498349706176}, \"lon\": [-9.1449, -73.9249, -99.131, -118.4068, -79.42, -58.3975, -43.225, 18.435, 55.28, 77.23, 100.5166, 151.1852, 139.7514, 126.9997, 116.1944, 37.6155, 29.01, 12.4833, 11.575, 2.3333, -0.1167, -3.6834, -9.1449], \"marker\": {\"color\": \"red\", \"size\": 4}, \"mode\": \"lines+markers\", \"text\": [\"Lisbon\", \"New York\", \"Mexico City\", \"Los Angeles\", \"Toronto\", \"Buenos Aires\", \"Rio de Janeiro\", \"Cape Town\", \"Dubai\", \"Delhi\", \"Bangkok\", \"Sydney\", \"Tokyo\", \"Seoul\", \"Changping\", \"Moscow\", \"Istanbul\", \"Rome\", \"Munich\", \"Paris\", \"London\", \"Madrid\", \"Lisbon\"], \"type\": \"scattergeo\"}]}, {\"data\": [{\"lat\": [38.7227, 43.7, 34.1139, 19.4424, 40.6943, -34.6025, -22.925, -33.92, 25.23, 28.67, 13.75, -33.92, 35.685, 37.5663, 40.2248, 55.7522, 41.105, 41.896, 48.1299, 48.8667, 51.5, 40.4, 38.7227], \"line\": {\"color\": \"blue\", \"width\": 1.2242501538009005}, \"lon\": [-9.1449, -79.42, -118.4068, -99.131, -73.9249, -58.3975, -43.225, 18.435, 55.28, 77.23, 100.5166, 151.1852, 139.7514, 126.9997, 116.1944, 37.6155, 29.01, 12.4833, 11.575, 2.3333, -0.1167, -3.6834, -9.1449], \"marker\": {\"color\": \"red\", \"size\": 4}, \"mode\": \"lines+markers\", \"text\": [\"Lisbon\", \"Toronto\", \"Los Angeles\", \"Mexico City\", \"New York\", \"Buenos Aires\", \"Rio de Janeiro\", \"Cape Town\", \"Dubai\", \"Delhi\", \"Bangkok\", \"Sydney\", \"Tokyo\", \"Seoul\", \"Changping\", \"Moscow\", \"Istanbul\", \"Rome\", \"Munich\", \"Paris\", \"London\", \"Madrid\", \"Lisbon\"], \"type\": \"scattergeo\"}]}, {\"data\": [{\"lat\": [40.6943, 43.7, 19.4424, 34.1139, -34.6025, -22.925, -33.92, 25.23, 28.67, 13.75, -33.92, 35.685, 37.5663, 40.2248, 55.7522, 41.105, 41.896, 48.1299, 48.8667, 51.5, 40.4, 38.7227, 40.6943], \"line\": {\"color\": \"blue\", \"width\": 1.023590098372619}, \"lon\": [-73.9249, -79.42, -99.131, -118.4068, -58.3975, -43.225, 18.435, 55.28, 77.23, 100.5166, 151.1852, 139.7514, 126.9997, 116.1944, 37.6155, 29.01, 12.4833, 11.575, 2.3333, -0.1167, -3.6834, -9.1449, -73.9249], \"marker\": {\"color\": \"red\", \"size\": 4}, \"mode\": \"lines+markers\", \"text\": [\"New York\", \"Toronto\", \"Mexico City\", \"Los Angeles\", \"Buenos Aires\", \"Rio de Janeiro\", \"Cape Town\", \"Dubai\", \"Delhi\", \"Bangkok\", \"Sydney\", \"Tokyo\", \"Seoul\", \"Changping\", \"Moscow\", \"Istanbul\", \"Rome\", \"Munich\", \"Paris\", \"London\", \"Madrid\", \"Lisbon\", \"New York\"], \"type\": \"scattergeo\"}]}, {\"data\": [{\"lat\": [40.6943, 43.7, 34.1139, 19.4424, -34.6025, -22.925, -33.92, 25.23, 28.67, 13.75, -33.92, 35.685, 37.5663, 40.2248, 55.7522, 41.105, 41.896, 48.1299, 48.8667, 51.5, 40.4, 38.7227, 40.6943], \"line\": {\"color\": \"blue\", \"width\": 0.8000000000000015}, \"lon\": [-73.9249, -79.42, -118.4068, -99.131, -58.3975, -43.225, 18.435, 55.28, 77.23, 100.5166, 151.1852, 139.7514, 126.9997, 116.1944, 37.6155, 29.01, 12.4833, 11.575, 2.3333, -0.1167, -3.6834, -9.1449, -73.9249], \"marker\": {\"color\": \"red\", \"size\": 4}, \"mode\": \"lines+markers\", \"text\": [\"New York\", \"Toronto\", \"Los Angeles\", \"Mexico City\", \"Buenos Aires\", \"Rio de Janeiro\", \"Cape Town\", \"Dubai\", \"Delhi\", \"Bangkok\", \"Sydney\", \"Tokyo\", \"Seoul\", \"Changping\", \"Moscow\", \"Istanbul\", \"Rome\", \"Munich\", \"Paris\", \"London\", \"Madrid\", \"Lisbon\", \"New York\"], \"type\": \"scattergeo\"}]}, {\"data\": [{\"lat\": [43.7, 34.1139, 19.4424, -34.6025, -22.925, -33.92, 25.23, 28.67, 13.75, -33.92, 35.685, 37.5663, 40.2248, 55.7522, 41.105, 41.896, 48.1299, 48.8667, 51.5, 40.4, 38.7227, 40.6943, 43.7], \"line\": {\"color\": \"blue\", \"width\": 0.8}, \"lon\": [-79.42, -118.4068, -99.131, -58.3975, -43.225, 18.435, 55.28, 77.23, 100.5166, 151.1852, 139.7514, 126.9997, 116.1944, 37.6155, 29.01, 12.4833, 11.575, 2.3333, -0.1167, -3.6834, -9.1449, -73.9249, -79.42], \"marker\": {\"color\": \"red\", \"size\": 4}, \"mode\": \"lines+markers\", \"text\": [\"Toronto\", \"Los Angeles\", \"Mexico City\", \"Buenos Aires\", \"Rio de Janeiro\", \"Cape Town\", \"Dubai\", \"Delhi\", \"Bangkok\", \"Sydney\", \"Tokyo\", \"Seoul\", \"Changping\", \"Moscow\", \"Istanbul\", \"Rome\", \"Munich\", \"Paris\", \"London\", \"Madrid\", \"Lisbon\", \"New York\", \"Toronto\"], \"type\": \"scattergeo\"}]}]);\n",
       "                        }).then(function(){\n",
       "                            \n",
       "var gd = document.getElementById('6fe2955d-dfe1-4451-a5ac-c99ceab012e2');\n",
       "var x = new MutationObserver(function (mutations, observer) {{\n",
       "        var display = window.getComputedStyle(gd).display;\n",
       "        if (!display || display === 'none') {{\n",
       "            console.log([gd, 'removed!']);\n",
       "            Plotly.purge(gd);\n",
       "            observer.disconnect();\n",
       "        }}\n",
       "}});\n",
       "\n",
       "// Listen for the removal of the full notebook cells\n",
       "var notebookContainer = gd.closest('#notebook-container');\n",
       "if (notebookContainer) {{\n",
       "    x.observe(notebookContainer, {childList: true});\n",
       "}}\n",
       "\n",
       "// Listen for the clearing of the current output cell\n",
       "var outputEl = gd.closest('.output');\n",
       "if (outputEl) {{\n",
       "    x.observe(outputEl, {childList: true});\n",
       "}}\n",
       "\n",
       "                        })\n",
       "                };\n",
       "                });\n",
       "            </script>\n",
       "        </div>"
      ]
     },
     "metadata": {},
     "output_type": "display_data"
    }
   ],
   "source": [
    "import plotly.graph_objects as go\n",
    "\n",
    "# Create figure\n",
    "fig = go.Figure(\n",
    "    data=[go.Scattergeo(lat=df.loc[df.loc[:,\"generation\"] == 'Generation_0',\"x_coordinate\"] , \n",
    "                     lon=df.loc[df.loc[:,\"generation\"] == 'Generation_0',\"y_coordinate\"] ,\n",
    "                     hoverinfo = 'text',\n",
    "                     text = df.loc[df.loc[:,\"generation\"] == 'Generation_0',\"name_city\"],\n",
    "                     mode=\"lines+markers\",\n",
    "                     line=dict(width=1, color=\"blue\"),\n",
    "                     marker=dict(size=4, color=\"red\"))],\n",
    "    layout=go.Layout(\n",
    "#         xaxis=dict(range=[-60,60], autorange=False, zeroline=False),\n",
    "#         yaxis=dict(range=[-150,160], autorange=False, zeroline=False),\n",
    "        title_text=\"TSP Problem\", hovermode=\"closest\",\n",
    "        updatemenus=[dict(type=\"buttons\",\n",
    "                          buttons=[dict(label=\"Play\",\n",
    "                                        method=\"animate\",\n",
    "                                        args=[None]),\n",
    "                                   dict(label=\"Pause\",\n",
    "                                        method=\"animate\",\n",
    "                                        args=[None])])]),\n",
    "    frames=[go.Frame(\n",
    "        data=[go.Scattergeo(lat=df.loc[df.loc[:,\"generation\"] == k,\"x_coordinate\"] , \n",
    "                     lon=df.loc[df.loc[:,\"generation\"] == k,\"y_coordinate\"] ,\n",
    "                     text = df.loc[df.loc[:,\"generation\"] == k,\"name_city\"],\n",
    "                     mode=\"lines+markers\",\n",
    "                     line=dict(width=((df.loc[df.loc[:,\"generation\"] == k,\"norm_distance\"].iloc[0])+0.1)*8, color=\"blue\"),\n",
    "                     marker=dict(size=4, color=\"red\"))])\n",
    "\n",
    "        for k in df.loc[:,\"generation\"].unique()]\n",
    ")\n",
    "\n",
    "fig.show()"
   ]
  },
  {
   "cell_type": "code",
   "execution_count": null,
   "metadata": {},
   "outputs": [],
   "source": []
  }
 ],
 "metadata": {
  "kernelspec": {
   "display_name": "Python 3",
   "language": "python",
   "name": "python3"
  },
  "language_info": {
   "codemirror_mode": {
    "name": "ipython",
    "version": 3
   },
   "file_extension": ".py",
   "mimetype": "text/x-python",
   "name": "python",
   "nbconvert_exporter": "python",
   "pygments_lexer": "ipython3",
   "version": "3.7.3"
  }
 },
 "nbformat": 4,
 "nbformat_minor": 2
}
